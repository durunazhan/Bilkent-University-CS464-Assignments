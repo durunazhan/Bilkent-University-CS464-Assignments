{
 "cells": [
  {
   "cell_type": "markdown",
   "id": "40e44688",
   "metadata": {},
   "source": [
    "IMPORTANT NOTE: For question 1.3, you need to rerun the entire code (not just the cell where you adjust the number for k) to obtain k = [1,50,250,500,100,4096] each time for it to work correctly. I unfortunately didn't have the time to fix this issue before submission. \n",
    "\n",
    "Also the part for 1.1 and 1.2 run a bit slowly but it outputs correct images, plots and values"
   ]
  },
  {
   "cell_type": "code",
   "execution_count": 1,
   "id": "956f42b3",
   "metadata": {},
   "outputs": [],
   "source": [
    "import PIL\n",
    "import os\n",
    "import numpy as np\n",
    "from PIL import Image\n",
    "import matplotlib.pyplot as plt"
   ]
  },
  {
   "cell_type": "code",
   "execution_count": 2,
   "id": "b07068de",
   "metadata": {},
   "outputs": [],
   "source": [
    "images = []\n",
    "im_list = []\n",
    "x = np.zeros((5239,4096,3))"
   ]
  },
  {
   "cell_type": "code",
   "execution_count": 3,
   "id": "26890a44",
   "metadata": {},
   "outputs": [
    {
     "name": "stderr",
     "output_type": "stream",
     "text": [
      "/var/folders/0x/mm7r_fbj0p32znrwv20g08f80000gn/T/ipykernel_905/2599948810.py:4: DeprecationWarning: BILINEAR is deprecated and will be removed in Pillow 10 (2023-07-01). Use Resampling.BILINEAR instead.\n",
      "  img = Image.open(f_img,mode=\"r\").resize((64,64), Image.BILINEAR)\n"
     ]
    }
   ],
   "source": [
    "f = '/Users/macbookair/Desktop/afhq_dog2/'\n",
    "for file in os.listdir(f):\n",
    "    f_img = f+\"/\"+file\n",
    "    img = Image.open(f_img,mode=\"r\").resize((64,64), Image.BILINEAR)\n",
    "    img.save(f_img)\n",
    "    im_list.append(np.asarray(img))  \n",
    "    images.append(np.asarray(img).reshape(4096,3))"
   ]
  },
  {
   "cell_type": "code",
   "execution_count": 4,
   "id": "0b6a0ce1",
   "metadata": {},
   "outputs": [],
   "source": [
    "for i in range (len(x)):\n",
    "    x[i] = images[i]\n",
    "x_1 = x[:,:,0]\n",
    "x_2=x[:,:,1]\n",
    "x_3=x[:,:,2]\n"
   ]
  },
  {
   "cell_type": "code",
   "execution_count": 5,
   "id": "9021420d",
   "metadata": {},
   "outputs": [
    {
     "data": {
      "text/plain": [
       "(5239, 4096)"
      ]
     },
     "execution_count": 5,
     "metadata": {},
     "output_type": "execute_result"
    }
   ],
   "source": [
    "x_1.shape"
   ]
  },
  {
   "cell_type": "code",
   "execution_count": 8,
   "id": "4d8c01b3",
   "metadata": {
    "scrolled": true
   },
   "outputs": [
    {
     "name": "stdout",
     "output_type": "stream",
     "text": [
      "First 10 PCA of x0is [[-0.01150671  0.03039318  0.00392819 ...  0.00640252  0.01100599\n",
      "   0.01827856]\n",
      " [-0.01161947  0.03052432  0.00398273 ...  0.00705647  0.01110759\n",
      "   0.01899735]\n",
      " [-0.01168901  0.03039559  0.00409358 ...  0.00739512  0.01154328\n",
      "   0.01963046]\n",
      " ...\n",
      " [-0.01300624  0.00830541 -0.02541042 ... -0.02289699 -0.01877476\n",
      "   0.02922074]\n",
      " [-0.01274632  0.00938293 -0.02480455 ... -0.02370746 -0.0182214\n",
      "   0.02801466]\n",
      " [-0.01262486  0.01009293 -0.02409116 ... -0.02403134 -0.01762955\n",
      "   0.02656285]]\n",
      "Percent Explained Variances\n",
      "PVE for k=10  62.46403255167852\n",
      "PVE for k=11  63.87992284699725\n",
      "PVE for k=12  65.19405250568464\n",
      "PVE for k=13  66.27842913515126\n",
      "PVE for k=14  67.31456686240398\n",
      "PVE for k=15  68.29408385038373\n",
      "PVE for k=16  69.18046196048482\n",
      "PVE for k=17 is the min number of principal components to have at least %70 PVE\n",
      "First 10 PCA of x1is [[-0.0138183   0.02883419 -0.00362718 ...  0.01134666  0.01211633\n",
      "  -0.01578058]\n",
      " [-0.01390208  0.02899145 -0.00368097 ...  0.01201604  0.01241567\n",
      "  -0.01652805]\n",
      " [-0.01403844  0.02893583 -0.00376937 ...  0.01250575  0.01291053\n",
      "  -0.01717446]\n",
      " ...\n",
      " [-0.01352095  0.0062147   0.02587259 ... -0.01706986 -0.01845408\n",
      "  -0.03230214]\n",
      " [-0.01338952  0.00730339  0.02521275 ... -0.01832043 -0.0182586\n",
      "  -0.03114477]\n",
      " [-0.01330122  0.0080456   0.02445494 ... -0.01878588 -0.01789619\n",
      "  -0.02959298]]\n",
      "Percent Explained Variances\n",
      "PVE for k=10  61.53673975366591\n",
      "PVE for k=11  62.96316188441566\n",
      "PVE for k=12  64.27999637837479\n",
      "PVE for k=13  65.36709829382671\n",
      "PVE for k=14  66.40814110765243\n",
      "PVE for k=15  67.3906742514539\n",
      "PVE for k=16  68.30711086931068\n",
      "PVE for k=17  69.19602487028901\n",
      "PVE for k=18 is the min number of principal components to have at least %70 PVE\n",
      "First 10 PCA of x2is [[ 0.01980887 -0.02731766  0.00470402 ... -0.0162544   0.00693157\n",
      "  -0.01910868]\n",
      " [ 0.01981558 -0.02743459  0.00471337 ... -0.01667934  0.0072734\n",
      "  -0.0199639 ]\n",
      " [ 0.01983806 -0.02725838  0.0047964  ... -0.01714629  0.00755465\n",
      "  -0.02120553]\n",
      " ...\n",
      " [ 0.01538977 -0.0029808  -0.02702584 ...  0.01469909  0.0354505\n",
      "  -0.00430953]\n",
      " [ 0.01552707 -0.00399488 -0.02627885 ...  0.01574082  0.03418025\n",
      "  -0.00386619]\n",
      " [ 0.01556175 -0.00471831 -0.02551483 ...  0.01596882  0.03272931\n",
      "  -0.00325169]]\n",
      "Percent Explained Variances\n",
      "PVE for k=10  63.05502898336499\n",
      "PVE for k=11  64.4755740999785\n",
      "PVE for k=12  65.73939153166448\n",
      "PVE for k=13  66.78547808990265\n",
      "PVE for k=14  67.80462997270267\n",
      "PVE for k=15  68.74512011051672\n",
      "PVE for k=16  69.62421954866005\n",
      "PVE for k=17 is the min number of principal components to have at least %70 PVE\n"
     ]
    }
   ],
   "source": [
    "#Q1.1\n",
    "#finding the principal components for each xi and their PVEs\n",
    "x_list = [x_1,x_2,x_3]\n",
    "count = 0\n",
    "normeig1 = []\n",
    "normeig2 = []\n",
    "normeig3 = []\n",
    "\n",
    "rgb_eigenv = []\n",
    "means = []\n",
    "for i in x_list:\n",
    "    # mean Centering the data  \n",
    "    x_meaned = i - np.mean(i , axis = 0)\n",
    "    means.append(np.mean(i , axis = 0))\n",
    "    # calculating the covariance matrix of the mean-centered data.\n",
    "    cov_mat = np.cov(x_meaned , rowvar = False)\n",
    "    #Calculating Eigenvalues and Eigenvectors of the covariance matrix\n",
    "    eigen_values , eigen_vectors = np.linalg.eig(cov_mat)\n",
    "    #sort the eigenvalues in descending order\n",
    "    sorted_index = np.argsort(eigen_values)[::-1]\n",
    "    sorted_eigenvalue = eigen_values[sorted_index]\n",
    "    #similarly sort the eigenvectors \n",
    "    sorted_eigenvectors = eigen_vectors[:,sorted_index]\n",
    "    rgb_eigenv.append(sorted_eigenvectors)\n",
    "    #choose 10 PC\n",
    "    eigenvector_subset = sorted_eigenvectors[:,0:10]\n",
    "    eigen_values_subset = sorted_eigenvalue[:10]\n",
    "    \n",
    "    print(\"First 10 PCA of x\"+str(count)+\"is\",eigenvector_subset)\n",
    "\n",
    "    k_vals = np.array([10, 11, 12, 13, 14, 15, 16, 17, 18, 19])\n",
    "    tot_var = np.sum(sorted_eigenvalue)\n",
    "    PVE = np.zeros(k_vals.shape[0])\n",
    "    for ind in range(k_vals.shape[0]):\n",
    "        PVE[ind] = np.sum(sorted_eigenvalue[:k_vals[ind]]/tot_var*100.0)\n",
    "    print(\"Percent Explained Variances\")\n",
    "    for j in range(PVE.shape[0]):\n",
    "        if PVE[j] < 70:\n",
    "            print(\"PVE for k=\" + str(k_vals[j]) + \" \", PVE[j])\n",
    "        else: \n",
    "            if PVE[j-1]<70:           \n",
    "                print(\"PVE for k=\" + str(k_vals[j]) + \" is the min number of principal components to have at least %70 PVE\")\n",
    "    \n",
    "    \n",
    "    #Q1.2\n",
    "    #Reshape and normalize the principal components\n",
    "    for k in range(10):\n",
    "        eigenvector_resized = np.reshape(eigenvector_subset.T[k], (64, 64))\n",
    "        normeig = (eigenvector_resized-np.min(eigenvector_resized))/(np.max(eigenvector_resized)-np.min(eigenvector_resized))\n",
    "        if count == 0:\n",
    "            normeig1.append(normeig) \n",
    "        elif count == 1:\n",
    "            normeig2.append(normeig) \n",
    "        else:\n",
    "            normeig3.append(normeig) \n",
    "            \n",
    "    \n",
    "    count += 1\n",
    "    \n",
    "n1 = np.array(normeig1)\n",
    "n2 = np.array(normeig2)\n",
    "n3 = np.array(normeig3)\n",
    "\n",
    "\n",
    "for i in range(10):\n",
    "    arrays = (np.array([n1[i],n2[i],n3[i]])*255).astype(np.uint8)\n",
    "    final_im = np.stack(arrays, axis = 2)\n",
    "    data = Image.fromarray(final_im)\n",
    "    data.save('dog_pic{}.png'.format(i))\n",
    "   \n",
    "\n"
   ]
  },
  {
   "cell_type": "markdown",
   "id": "ade60187",
   "metadata": {},
   "source": [
    "Question 1.3"
   ]
  },
  {
   "cell_type": "code",
   "execution_count": 9,
   "id": "89faf5ec",
   "metadata": {},
   "outputs": [
    {
     "name": "stderr",
     "output_type": "stream",
     "text": [
      "/var/folders/0x/mm7r_fbj0p32znrwv20g08f80000gn/T/ipykernel_905/586918687.py:2: DeprecationWarning: BILINEAR is deprecated and will be removed in Pillow 10 (2023-07-01). Use Resampling.BILINEAR instead.\n",
      "  dog1 = Image.open(\"flickr_dog_000002.jpg\").resize((64,64), Image.BILINEAR)\n"
     ]
    }
   ],
   "source": [
    "#Q1.3\n",
    "dog1 = Image.open(\"flickr_dog_000002.jpg\").resize((64,64), Image.BILINEAR)\n",
    "a = np.asarray(dog1).reshape(4096,3)\n"
   ]
  },
  {
   "cell_type": "code",
   "execution_count": 10,
   "id": "7b7b2edf",
   "metadata": {},
   "outputs": [
    {
     "data": {
      "text/plain": [
       "array([[184, 186, 183],\n",
       "       [184, 186, 183],\n",
       "       [184, 186, 183],\n",
       "       ...,\n",
       "       [194, 126,  79],\n",
       "       [195, 127,  80],\n",
       "       [203, 135,  88]], dtype=uint8)"
      ]
     },
     "execution_count": 10,
     "metadata": {},
     "output_type": "execute_result"
    }
   ],
   "source": [
    "a"
   ]
  },
  {
   "cell_type": "code",
   "execution_count": 11,
   "id": "9f86c910",
   "metadata": {},
   "outputs": [
    {
     "data": {
      "text/plain": [
       "(4096,)"
      ]
     },
     "execution_count": 11,
     "metadata": {},
     "output_type": "execute_result"
    }
   ],
   "source": [
    "a_list = [a[:,0],a[:,1],a[:,2]]\n",
    "a_list[0].shape"
   ]
  },
  {
   "cell_type": "code",
   "execution_count": 12,
   "id": "44624c28",
   "metadata": {},
   "outputs": [],
   "source": [
    "recon_img =[] \n",
    "rcvr = []\n",
    "\n",
    "\n",
    "for i in range(len(rgb_eigenv)):\n",
    "    rgb_eigenv[i] = rgb_eigenv[i][:,:1] #change here for k = [1,50,250,500,1000,4096]\n",
    "\n",
    "c = 0\n",
    "for rgb in a_list:\n",
    "    project = rgb_eigenv[c].T.dot((rgb) - means[c] )\n",
    "    recon_img.append(project)\n",
    "    c += 1"
   ]
  },
  {
   "cell_type": "code",
   "execution_count": 13,
   "id": "720ae1d6",
   "metadata": {},
   "outputs": [
    {
     "name": "stdout",
     "output_type": "stream",
     "text": [
      "(4096,)\n",
      "(4096,)\n",
      "(4096,)\n"
     ]
    }
   ],
   "source": [
    "c1 = 0\n",
    "for rgb in recon_img:\n",
    "    recover = rgb_eigenv[c1].dot(rgb) + means[c1]\n",
    "    print(recover.shape)\n",
    "    rcvr.append(recover)\n",
    "    c1 += 1"
   ]
  },
  {
   "cell_type": "code",
   "execution_count": 14,
   "id": "3910d7fb",
   "metadata": {},
   "outputs": [
    {
     "name": "stdout",
     "output_type": "stream",
     "text": [
      "(64, 64) (64, 64) (64, 64)\n",
      "(64, 64, 3)\n"
     ]
    }
   ],
   "source": [
    "rcvr_new1 = np.array(rcvr[0]).reshape(64,64)\n",
    "rcvr_new2 = np.array(rcvr[1]).reshape(64,64)\n",
    "rcvr_new3 = np.array(rcvr[2]).reshape(64,64)\n",
    "\n",
    "print(rcvr_new1.shape,rcvr_new2.shape, rcvr_new3.shape)\n",
    "\n",
    "rcvr_asarray = (np.array([rcvr_new1,rcvr_new2,rcvr_new3])).transpose(1,2,0).astype(np.uint8)\n",
    "print(rcvr_asarray.shape)\n",
    "\n",
    "final_1 = np.stack(rcvr_asarray)\n",
    "data1 = Image.fromarray(final_1)\n",
    "data1.show()\n"
   ]
  },
  {
   "cell_type": "code",
   "execution_count": null,
   "id": "9b6ed922",
   "metadata": {},
   "outputs": [],
   "source": []
  }
 ],
 "metadata": {
  "kernelspec": {
   "display_name": "Python 3 (ipykernel)",
   "language": "python",
   "name": "python3"
  },
  "language_info": {
   "codemirror_mode": {
    "name": "ipython",
    "version": 3
   },
   "file_extension": ".py",
   "mimetype": "text/x-python",
   "name": "python",
   "nbconvert_exporter": "python",
   "pygments_lexer": "ipython3",
   "version": "3.9.12"
  }
 },
 "nbformat": 4,
 "nbformat_minor": 5
}
