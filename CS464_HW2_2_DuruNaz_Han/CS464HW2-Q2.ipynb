{
 "cells": [
  {
   "cell_type": "code",
   "execution_count": 213,
   "id": "e14b5868",
   "metadata": {},
   "outputs": [],
   "source": [
    "import pandas as pd\n",
    "import numpy as np\n",
    "import matplotlib.pyplot as plt\n",
    "import seaborn as sns"
   ]
  },
  {
   "cell_type": "code",
   "execution_count": 24,
   "id": "0b36e81c",
   "metadata": {},
   "outputs": [],
   "source": [
    "def load_dataset(file, split_test, split_val): #taken from the colab tutorial\n",
    "  \n",
    "    column_names = [\"tau1\", \"tau2\", \"tau3\", \"tau4\", \"p1\",\"p2\",\"p3\",\"p4\",\"g1\",\"g2\",\"g3\",\"g4\",\"label\"]\n",
    "    df = pd.read_csv(file, names=column_names, header=None)\n",
    "    df_arr = df[1:].apply(pd.to_numeric).values # NumPy array of the df values\n",
    "    np.random.shuffle(df_arr)\n",
    "    \n",
    "    dataset_x = df_arr[:,:-1]\n",
    "   \n",
    "    dataset_y = df_arr[:,-1]\n",
    "\n",
    "    # Number of instances (rows) in the dataset\n",
    "    num_instances = len(df_arr)\n",
    "   \n",
    "    test_size = int(num_instances * split_test)\n",
    "    val_size = int(num_instances * split_val)\n",
    "    train_size = num_instances - test_size - val_size\n",
    "\n",
    "    train_x = dataset_x[:train_size]\n",
    "    val_x = dataset_x[:val_size]\n",
    "    train_y = dataset_y[:train_size]\n",
    "    val_y = dataset_y[:val_size]\n",
    "\n",
    "    test_x = dataset_x[train_size:]\n",
    "    test_y = dataset_y[train_size:]\n",
    "\n",
    "    return train_x, train_y, test_x, test_y, val_x, val_y"
   ]
  },
  {
   "cell_type": "code",
   "execution_count": 25,
   "id": "1b2b5e06",
   "metadata": {},
   "outputs": [],
   "source": [
    "train_x, train_y, test_x, test_y, val_x, val_y= load_dataset(\"dataset.csv\", split_test=0.20, split_val = 0.10)"
   ]
  },
  {
   "cell_type": "code",
   "execution_count": 26,
   "id": "2de9e463",
   "metadata": {},
   "outputs": [
    {
     "name": "stderr",
     "output_type": "stream",
     "text": [
      "/var/folders/0x/mm7r_fbj0p32znrwv20g08f80000gn/T/ipykernel_585/2256125752.py:1: DeprecationWarning: `np.float` is a deprecated alias for the builtin `float`. To silence this warning, use `float` by itself. Doing this will not modify any behavior and is safe. If you specifically wanted the numpy scalar type, use `np.float64` here.\n",
      "Deprecated in NumPy 1.20; for more details and guidance: https://numpy.org/devdocs/release/1.20.0-notes.html#deprecations\n",
      "  train_x_norm = (train_x.astype(np.float)-np.min(train_x.astype(np.float)))/(np.max(train_x.astype(np.float))-np.min(train_x.astype(np.float)))\n"
     ]
    }
   ],
   "source": [
    "train_x_norm = (train_x.astype(np.float)-np.min(train_x.astype(np.float)))/(np.max(train_x.astype(np.float))-np.min(train_x.astype(np.float)))"
   ]
  },
  {
   "cell_type": "code",
   "execution_count": 272,
   "id": "4b419363",
   "metadata": {},
   "outputs": [
    {
     "data": {
      "text/plain": [
       "12"
      ]
     },
     "execution_count": 272,
     "metadata": {},
     "output_type": "execute_result"
    }
   ],
   "source": [
    "train_x_norm\n",
    "\n",
    "len(train_x_norm[0])"
   ]
  },
  {
   "cell_type": "code",
   "execution_count": 228,
   "id": "06654db3",
   "metadata": {},
   "outputs": [],
   "source": [
    "def sigmoid(z):\n",
    "    return 1.0/(1 + np.exp(-z))"
   ]
  },
  {
   "cell_type": "code",
   "execution_count": 229,
   "id": "90806624",
   "metadata": {},
   "outputs": [],
   "source": [
    "def loss(y, y_pred):\n",
    "    loss = -np.mean(y*(np.log(y_pred)) - (1-y)*np.log(1-y_pred))\n",
    "    return loss"
   ]
  },
  {
   "cell_type": "code",
   "execution_count": 230,
   "id": "5dbeb0be",
   "metadata": {},
   "outputs": [],
   "source": [
    "def gradients(X, y, y_pred):\n",
    "    \n",
    "    m = X.shape[0]\n",
    "    dw = (1/(len(train_x)))*np.dot(X.T, (y-y_pred))\n",
    "    \n",
    "    return dw"
   ]
  },
  {
   "cell_type": "code",
   "execution_count": 241,
   "id": "5337e3b2",
   "metadata": {},
   "outputs": [],
   "source": [
    "def train(X, y, bs, epochs, lr, w_all):\n",
    "    \n",
    "    n = len(X[0])\n",
    "    m = len(X)\n",
    "   \n",
    "    w_b = w_all[1:13]  \n",
    "    b = w_all[0]\n",
    "        \n",
    "\n",
    "    y = y.reshape(m,1)\n",
    "    losses = []\n",
    "    \n",
    "    for epoch in range(epochs):\n",
    "        for i in range((m-1)//bs + 1):\n",
    "\n",
    "            xb = X[i*bs:i*bs + bs]\n",
    "            yb = y[i*bs:i*bs + bs]\n",
    "            \n",
    "\n",
    "            y_pred = sigmoid(np.dot(xb, w) + b)\n",
    "    \n",
    "            dw  = gradients(xb, yb, y_pred)\n",
    "            w_b += lr*dw\n",
    "        \n",
    "\n",
    "        \n",
    "\n",
    "        l = loss(y, sigmoid(np.dot(X, w_b) + b))\n",
    "        losses.append(l)\n",
    "        \n",
    "    # returning weights, bias and losses(List).\n",
    "   \n",
    "    return w_b, losses"
   ]
  },
  {
   "cell_type": "code",
   "execution_count": 261,
   "id": "93a563e3",
   "metadata": {},
   "outputs": [],
   "source": [
    "def predict(X):\n",
    "    b = w_b[0]\n",
    " \n",
    "    preds = sigmoid(np.dot(X, w_b) + b)\n",
    "    pred_class = []\n",
    "    pred_class = [1 if i > 0.5 else 0 for i in preds]\n",
    "    \n",
    "    return np.array(pred_class)"
   ]
  },
  {
   "cell_type": "code",
   "execution_count": 264,
   "id": "9898937c",
   "metadata": {},
   "outputs": [],
   "source": [
    "def calc_accuracy(ground_truth_labels, predicted_labels): \n",
    "    correct = 0\n",
    "\t# Pairs of the ground truth and predicted labels\n",
    "    for gt_label, pred_label in zip(ground_truth_labels, predicted_labels):\n",
    "        if gt_label == pred_label: \n",
    "            correct += 1\n",
    "    return (correct/len(ground_truth_labels))"
   ]
  },
  {
   "cell_type": "code",
   "execution_count": 266,
   "id": "54091cf5",
   "metadata": {},
   "outputs": [],
   "source": [
    "def conf_matrix(y, y_pred):\n",
    "    data = {\"y_actual\": y, \"y_predicted\": y_pred}\n",
    "    y_df = pd.DataFrame(data)\n",
    "    confusion_matrix = pd.crosstab(y_df['y_actual'], y_df['y_predicted'], rownames=['Actual'], colnames=['Predicted'])\n",
    "    hmap = sns.heatmap(confusion_matrix, annot=True)\n",
    "    return (confusion_matrix, hmap)"
   ]
  },
  {
   "cell_type": "code",
   "execution_count": 303,
   "id": "9cf48590",
   "metadata": {},
   "outputs": [
    {
     "name": "stdout",
     "output_type": "stream",
     "text": [
      "Accuracy of batch size = 64 is 0.4665\n",
      "\n",
      "Confusion matrix of batch size = 64:\n",
      " (Predicted     0     1\n",
      "Actual               \n",
      "0.0        1198  2684\n",
      "1.0         517  1601, <AxesSubplot:xlabel='Predicted', ylabel='Actual'>)\n"
     ]
    },
    {
     "data": {
      "image/png": "[encoded data removed]",
      "text/plain": [
       "<Figure size 432x288 with 2 Axes>"
      ]
     },
     "metadata": {
      "needs_background": "light"
     },
     "output_type": "display_data"
    }
   ],
   "source": [
    "w_all = np.random.normal(0,1,13).reshape(13,1)\n",
    "w_b, l  = train(train_x_norm, train_y, 64, 100, 0.01, w_all)\n",
    "\n",
    "\n",
    "small_b = calc_accuracy(val_y,predict(val_x))\n",
    "\n",
    "small_b_conf = conf_matrix(val_y,predict(val_x))\n",
    "\n",
    "print(\"Accuracy of batch size = 64 is\",small_b)\n",
    "print(\"\\nConfusion matrix of batch size = 64:\\n\", small_b_conf)\n",
    "\n",
    "\n",
    "\n",
    "\n"
   ]
  },
  {
   "cell_type": "code",
   "execution_count": 304,
   "id": "8f7b1fef",
   "metadata": {},
   "outputs": [
    {
     "name": "stdout",
     "output_type": "stream",
     "text": [
      "\n",
      "Accuracy of batch size = full is 0.3516666666666667\n",
      "\n",
      "Confusion matrix of batch size = full:\n",
      " (Predicted    0     1\n",
      "Actual              \n",
      "0.0        113  3769\n",
      "1.0        121  1997, <AxesSubplot:xlabel='Predicted', ylabel='Actual'>)\n"
     ]
    },
    {
     "data": {
      "image/png": "[encoded data removed]",
      "text/plain": [
       "<Figure size 432x288 with 2 Axes>"
      ]
     },
     "metadata": {
      "needs_background": "light"
     },
     "output_type": "display_data"
    }
   ],
   "source": [
    "w, l  = train(train_x_norm, train_y, len(train_x), 100, 0.01, w_all)\n",
    "\n",
    "full_b = calc_accuracy(val_y, predict(val_x))\n",
    "full_b_conf = conf_matrix(val_y,predict(val_x))\n",
    "\n",
    "print(\"\\nAccuracy of batch size = full is\",full_b)\n",
    "print(\"\\nConfusion matrix of batch size = full:\\n\", full_b_conf)\n"
   ]
  },
  {
   "cell_type": "code",
   "execution_count": 305,
   "id": "cfc9f28a",
   "metadata": {},
   "outputs": [
    {
     "name": "stdout",
     "output_type": "stream",
     "text": [
      "Accuracy of batch size = 64 is 0.31366666666666665\n",
      "\n",
      "Confusion matrix of batch size = 64:\n",
      " (Predicted    0     1\n",
      "Actual              \n",
      "0.0        220  3662\n",
      "1.0        456  1662, <AxesSubplot:xlabel='Predicted', ylabel='Actual'>)\n"
     ]
    },
    {
     "data": {
      "image/png": "[encoded data removed]",
      "text/plain": [
       "<Figure size 432x288 with 2 Axes>"
      ]
     },
     "metadata": {
      "needs_background": "light"
     },
     "output_type": "display_data"
    }
   ],
   "source": [
    "#Question 2.2 uniform dist\n",
    "w_all = np.random.uniform(0,1,13).reshape(13,1)\n",
    "\n",
    "w_b, l  = train(train_x_norm, train_y, 64, 100, 0.01, w_all)\n",
    "\n",
    "\n",
    "small_b = calc_accuracy(val_y,predict(val_x))\n",
    "\n",
    "small_b_conf = conf_matrix(val_y,predict(val_x))\n",
    "\n",
    "print(\"Accuracy of batch size = 64 is\",small_b)\n",
    "print(\"\\nConfusion matrix of batch size = 64:\\n\", small_b_conf)\n"
   ]
  },
  {
   "cell_type": "code",
   "execution_count": 310,
   "id": "36532a25",
   "metadata": {},
   "outputs": [
    {
     "name": "stdout",
     "output_type": "stream",
     "text": [
      "Accuracy of batch size = 64 is 0.647\n",
      "\n",
      "Confusion matrix of batch size = 64:\n",
      " (Predicted     0\n",
      "Actual         \n",
      "0.0        3882\n",
      "1.0        2118, <AxesSubplot:xlabel='Predicted', ylabel='Actual'>)\n"
     ]
    },
    {
     "data": {
      "image/png": "[encoded data removed]",
      "text/plain": [
       "<Figure size 432x288 with 2 Axes>"
      ]
     },
     "metadata": {
      "needs_background": "light"
     },
     "output_type": "display_data"
    }
   ],
   "source": [
    "#Question 2.2 zeros\n",
    "w_all = np.zeros((1,13)).reshape(13,1)\n",
    "w_b, l  = train(train_x_norm, train_y, 64, 100, 0.01, w_all)\n",
    "\n",
    "\n",
    "small_b = calc_accuracy(val_y,predict(val_x))\n",
    "\n",
    "small_b_conf = conf_matrix(val_y,predict(val_x))\n",
    "\n",
    "print(\"Accuracy of batch size = 64 is\",small_b)\n",
    "print(\"\\nConfusion matrix of batch size = 64:\\n\", small_b_conf)"
   ]
  },
  {
   "cell_type": "code",
   "execution_count": null,
   "id": "b4b2e2bf",
   "metadata": {},
   "outputs": [],
   "source": []
  }
 ],
 "metadata": {
  "kernelspec": {
   "display_name": "Python 3 (ipykernel)",
   "language": "python",
   "name": "python3"
  },
  "language_info": {
   "codemirror_mode": {
    "name": "ipython",
    "version": 3
   },
   "file_extension": ".py",
   "mimetype": "text/x-python",
   "name": "python",
   "nbconvert_exporter": "python",
   "pygments_lexer": "ipython3",
   "version": "3.9.12"
  }
 },
 "nbformat": 4,
 "nbformat_minor": 5
}
