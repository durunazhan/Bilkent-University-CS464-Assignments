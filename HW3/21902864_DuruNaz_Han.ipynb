{
  "cells": [
    {
      "cell_type": "markdown",
      "metadata": {
        "id": "YmlJ7FFJGA3k"
      },
      "source": [
        "**<h1><center>CS 464</center></h1>**\n",
        "**<h1><center>Introduction to Machine Learning</center></h1>**\n",
        "**<h1><center>Spring 2022</center></h1>**\n",
        "**<h1><center>Homework 3</center></h1>**\n",
        "<h4><center>Due: DEC 23, 2022 23:59 (GMT+3)</center></h4>"
      ]
    },
    {
      "cell_type": "markdown",
      "metadata": {
        "id": "LxSgl3smH_qk"
      },
      "source": [
        "In this third homework assignment, you are asked to develop a system that can be used to supply additional information to weather forecasts. For this task, you are provided a dataset that consists of weather images that belong to four different weather conditions: [cloudy, rain, shiny, sunrise]. Your model will classify images considering these class labels. \n",
        "\n",
        "For this assignment, **using PyTorch is mandatory.**\n",
        "\n",
        "**Tip:** You may experience latencies in file I/O if you are using Google Colab. In this regard, we recommend you upload your data to Google Drive as a zip file and unzip the folder contents in your drive. If you would like to upload the data files separately, it may take significant time.\n",
        "\n",
        "You will submit a single ipynb file as the homework submission. If you want to provide further explanation about your work, you can add Markdown cells to do so. [Here](https://www.markdownguide.org/), you can find a guide for Markdown syntax. Upload your homework with the following filename convention: \\<BilkentID\\>\\_\\<Name\\>\\_\\<Surname\\>.ipynb\n",
        "\n",
        "**Contact:**\n",
        "- [Yusuf Dalva](mailto:yusuf.dalva@bilkent.edu.tr)\n",
        "- [Ahmet Burak Yıldırım](mailto:a.yildirim@bilkent.edu.tr)\n",
        "\n",
        "**Dataset**<br>\n",
        "You can find the dataset [here](https://www.kaggle.com/datasets/pratik2901/multiclass-weather-dataset). \n"
      ]
    },
    {
      "cell_type": "markdown",
      "metadata": {
        "id": "kUQigqxM4JlE"
      },
      "source": [
        "# **Q1** [12 points]\n",
        "This part consists of 4 questions which you are expected to answer. Please fill in the following cell in Markdown format. Each question is worth 2 points."
      ]
    },
    {
      "cell_type": "markdown",
      "metadata": {
        "id": "3ZcbkhwkbQ4m"
      },
      "source": [
        "a) Do we need to output the actual probability values when performing classification with the softmax layer? If not, how do these numbers represent the likelihood of classes? Also, does the output values should be in a specific range for us to make a classification? <br>\n",
        "\n",
        "No we don't need to output actual probability values when performing classificiation with softmax layer. The softmax layer's output has probabilities of each class and to classify a sample, the class with the highest probability is selected. The output values of the softmax layer have to be in a specific range because they are probabilities and should be in the range [0,1].\n",
        "\n",
        "b) From the perspective of model complexity, how you can identify when a model underfits or overfits? Which plots are informative for detecting this behavior? <br>\n",
        "\n",
        "Overfitting and underfitting can be detected in several ways. First looking at the comparison of training and validation loss curves, if the training loss is significantly higher (or lower) than the validation loss, the model may be overfitting. If both losses are not improving at all in each epoch, the model might be underfitting. We can also compare the accuracies of training,validation and test and if training accuracy is significantly higher than the test accuracy, then  the model might be overfitting.\n",
        "\n",
        "\n",
        "c) In neural networks, how does the ReLU function help us to generalize to conplex feature spaces? Why we are not using linear layers only? <br>\n",
        "\n",
        "ReLU function brings non-linearity to the model which can help the model evaluate more complex, i.e. non-linear, data. Linear functions are only capable of evaluating linear data when in fact most of the data we use is non-linear.\n",
        "\n",
        "\n",
        "d) Assume that you are going to pass the feature matrix with dimensions 64x64x5 (Height x Width x Channel size) through a convolutional layer. If our convolutional layer has a kernel size of 3x3 and the number of filters is 6, how many learnable parameters are present? <br>\n",
        "\n",
        "There will be 3*3*5*6 = 270 learnable parameters. Each filter is 3x3 and are convolved with 5 input channels and there are 6 filters. \n",
        "\n",
        "\n",
        "\n"
      ]
    },
    {
      "cell_type": "markdown",
      "metadata": {
        "id": "Qx_XrpE44TlW"
      },
      "source": [
        "# **Q2** [88 points]"
      ]
    },
    {
      "cell_type": "markdown",
      "metadata": {
        "id": "whvv0wjpDWC_"
      },
      "source": [
        "## Necessary Imports\n",
        "In the cell below, we import some utilities that you can make use of in this assignment. Note that you need to use PyTorch in this assignment. To report certain metrics (like precision, recall, accuracy) you may use utilities from *scikit-learn* library. You can edit these imports considering your implementation as long as you use PyTorch."
      ]
    },
    {
      "cell_type": "markdown",
      "metadata": {
        "id": "ByxehL1b4b2X"
      },
      "source": [
        "## Setup"
      ]
    },
    {
      "cell_type": "code",
      "execution_count": 4,
      "metadata": {
        "id": "Jk_nY5kj70sX"
      },
      "outputs": [],
      "source": [
        "import os \n",
        "import time\n",
        "import random\n",
        "\n",
        "import numpy as np\n",
        "from PIL import Image\n",
        "import matplotlib.pyplot as plt\n",
        "\n",
        "import torch\n",
        "import torch.nn as nn\n",
        "import torch.nn.functional as F\n",
        "import torchvision.models as models\n",
        "from torch.utils.data import Dataset, DataLoader\n",
        "\n",
        "from sklearn.model_selection import train_test_split\n",
        "from sklearn.metrics import confusion_matrix, f1_score, precision_score, recall_score, accuracy_score"
      ]
    },
    {
      "cell_type": "markdown",
      "metadata": {
        "id": "yAve2XUl9spy"
      },
      "source": [
        "You can test whether hardware acceleration with GPU is enabled in the cell below. In addition, if you have GPU access, you can check the amount of available GPU memory."
      ]
    },
    {
      "cell_type": "code",
      "execution_count": 5,
      "metadata": {
        "id": "0XJ4Hihx5q-2",
        "colab": {
          "base_uri": "https://localhost:8080/"
        },
        "outputId": "3abf3ffe-5311-4fa6-bc1d-3e05541dfb05"
      },
      "outputs": [
        {
          "output_type": "stream",
          "name": "stdout",
          "text": [
            "Using device: cuda\n",
            "GPU Name: Tesla T4\n",
            "Memory Stats:\n",
            "  - Allocated: 0.0 GB\n",
            "  - Cached:    0.0 GB\n",
            "  - Total:     14.8 GB\n"
          ]
        }
      ],
      "source": [
        "# setting device as GPU if available, else CPU\n",
        "device = torch.device('cuda' if torch.cuda.is_available() else 'cpu')\n",
        "print('Using device:', device)\n",
        "\n",
        "# CUDA device information\n",
        "if device.type == 'cuda':\n",
        "    print('GPU Name:', torch.cuda.get_device_name(0))\n",
        "    print('Memory Stats:')\n",
        "    print('  - Allocated:', round(torch.cuda.memory_allocated(0)/1024**3,1), 'GB')\n",
        "    print('  - Cached:   ', round(torch.cuda.memory_reserved(0)/1024**3,1), 'GB')\n",
        "    print('  - Total:    ', round(torch.cuda.get_device_properties(0).total_memory/1024**3,1), 'GB')"
      ]
    },
    {
      "cell_type": "markdown",
      "metadata": {
        "id": "-wVIFjmb-CJI"
      },
      "source": [
        "**DO NOT CHANGE**<br>\n",
        "To evaluate your implementation fairly, we set seed values for random sampling methods in PyTorch, Numpy, and Python random library. These seeds are set to evaluate your models successfully, so do not change these values."
      ]
    },
    {
      "cell_type": "code",
      "execution_count": 6,
      "metadata": {
        "id": "4NiPHoaY5q8G"
      },
      "outputs": [],
      "source": [
        "# for reproducable results\n",
        "torch.manual_seed(464)\n",
        "torch.cuda.manual_seed(464)\n",
        "np.random.seed(464)\n",
        "random.seed(464)\n",
        "if device.type == 'cuda':\n",
        "    torch.backends.cudnn.deterministic=True"
      ]
    },
    {
      "cell_type": "markdown",
      "metadata": {
        "id": "Bbgnyp5J4fMb"
      },
      "source": [
        "## Load Data [6 points]\n",
        "In this assignment, you will use a custom dataset, which you need a wrapper class to access its data. For this purpose, implement a custom dataset class to organize data with the specifications you need. This class will load batches of data using a PyTorch DataLoader later. The class signature of CustomDataset class is provided to you in the cell below, where you can implement your custom dataset.\n",
        "\n",
        "**IMPORTANT:** As you may have difficulties while fitting all images to your RAM, you need to read the images while getting that item (each item is an image here). We encourage you to read the data files in the \"__getitem__\" function to avoid encountering any issues related to fitting the data to memory. This way, you do not need to hold the dataset in a single variable, which would be memory intensive."
      ]
    },
    {
      "cell_type": "code",
      "execution_count": 7,
      "metadata": {
        "id": "iEgUvtFR8uY_"
      },
      "outputs": [],
      "source": [
        "class CustomDataset(Dataset):\n",
        "    def __init__(self, data, labels):\n",
        "        self.data = torch.tensor(data, dtype= torch.float).to(device)\n",
        "        self.labels = torch.tensor(labels, dtype= torch.long).to(device)\n",
        "\n",
        "    '''This function should return sample count in the dataset'''\n",
        "    def __len__(self):\n",
        "        return len(self.data)\n",
        "\n",
        "    '''This function should return a single sample and its ground truth value from the dataset corresponding to index parameter '''\n",
        "    def __getitem__(self, index):\n",
        "        image = self.data[index]\n",
        "        label = self.labels[index]\n",
        "\n",
        "        return image, label\n"
      ]
    },
    {
      "cell_type": "code",
      "execution_count": 8,
      "metadata": {
        "id": "pPUeacZQRqr8"
      },
      "outputs": [],
      "source": [
        "def read_dataset(path):\n",
        "    data = []\n",
        "    labels = []\n",
        "    for root, dirs, files in os.walk(path):\n",
        "        for file in files:\n",
        "            if file.endswith('.jpg') or file.endswith('.jpeg'):\n",
        "                image = Image.open(os.path.join(root, file), mode='r')\n",
        "                image = image.convert('RGB')\n",
        "                image = image.resize((224, 224))\n",
        "                image = np.array(image)/255\n",
        "                image = np.moveaxis(image, -1, 0)\n",
        "                data.append(image)\n",
        "                if root.split('/')[-1] == 'Cloudy':\n",
        "                    labels.append(0)\n",
        "                elif root.split('/')[-1] == 'Rain':\n",
        "                    labels.append(1)\n",
        "                elif root.split('/')[-1] == 'Shine':\n",
        "                    labels.append(2)\n",
        "                elif root.split('/')[-1] == 'Sunrise':\n",
        "                    labels.append(3)\n",
        "\n",
        "   \n",
        "\n",
        "    \n",
        "    train_data, test_data, train_labels, test_labels = train_test_split(data, labels, test_size=0.2, random_state=464, shuffle=True)\n",
        "    train_data, val_data, train_labels, val_labels = train_test_split(train_data, train_labels, test_size=0.125, random_state=464, shuffle=True)\n",
        " \n",
        "    train_dataset = CustomDataset(train_data, train_labels)\n",
        "    val_dataset = CustomDataset(val_data, val_labels)\n",
        "    test_dataset = CustomDataset(test_data, test_labels)\n",
        "    return train_dataset, val_dataset, test_dataset\n"
      ]
    },
    {
      "cell_type": "code",
      "source": [
        "from google.colab import drive\n",
        "drive.mount(\"/content/gdrive\")"
      ],
      "metadata": {
        "colab": {
          "base_uri": "https://localhost:8080/"
        },
        "id": "L8pBZ5zhgGiJ",
        "outputId": "ba231de8-4d41-47ac-f911-862cd445fcec"
      },
      "execution_count": 9,
      "outputs": [
        {
          "output_type": "stream",
          "name": "stdout",
          "text": [
            "Mounted at /content/gdrive\n"
          ]
        }
      ]
    },
    {
      "cell_type": "code",
      "source": [
        "torch.cuda.is_available()\n",
        "os.environ['CUDA_VISIBLE_DEVICES'] ='0'"
      ],
      "metadata": {
        "id": "iB9Efy3qp-2z"
      },
      "execution_count": 10,
      "outputs": []
    },
    {
      "cell_type": "markdown",
      "metadata": {
        "id": "H5aZOFJwEc_-"
      },
      "source": [
        "You can implement an additional function to read and construct custom dataset objects for training, validation, and test sets. While constructing the dataset, consider the following issues:\n",
        "- Dataset contains images that end with prefixes *.jpg* and *.jpeg*.\n",
        "- If you use PIL to read images, you should convert them to \"RGB\" format to operate on three color channels.\n",
        "- Resize the dataset images to 224x224. You are going to design models that take images with tensor shape 224x224x3.\n",
        "- If you wish, you can change the ordering of the color channels with np.moveaxis function\n",
        "\n",
        "Lastly, the train-validation-test split for the dataset provided to you is 70-10-20 in terms of percentages. While constructing the dataset, remember that shuffling is a necessary step (to get randomly distributed classes across batches).\n",
        "\n",
        "You can design your dataset getter method compatible with the line provided below, where train_dataset, val_dataset, and test_dataset are all instances of CustomDataset."
      ]
    },
    {
      "cell_type": "code",
      "execution_count": 11,
      "metadata": {
        "id": "1v2UzNE2Rqr9",
        "colab": {
          "base_uri": "https://localhost:8080/"
        },
        "outputId": "073d5e9e-e026-42ea-e814-331c444dec03"
      },
      "outputs": [
        {
          "output_type": "stream",
          "name": "stderr",
          "text": [
            "<ipython-input-7-76db075b0079>:3: UserWarning: Creating a tensor from a list of numpy.ndarrays is extremely slow. Please consider converting the list to a single numpy.ndarray with numpy.array() before converting to a tensor. (Triggered internally at ../torch/csrc/utils/tensor_new.cpp:230.)\n",
            "  self.data = torch.tensor(data, dtype= torch.float).to(device)\n"
          ]
        }
      ],
      "source": [
        "train_dataset, val_dataset, test_dataset = read_dataset('/content/gdrive/MyDrive/Colab Notebooks/Multi-class Weather Dataset/')"
      ]
    },
    {
      "cell_type": "code",
      "execution_count": 12,
      "metadata": {
        "colab": {
          "base_uri": "https://localhost:8080/"
        },
        "id": "Kcr9CC8VRqr9",
        "outputId": "a2417364-8c70-46b6-cac9-da4eac4ef9d8"
      },
      "outputs": [
        {
          "output_type": "stream",
          "name": "stdout",
          "text": [
            "(tensor([[[0.9412, 0.9490, 0.9569,  ..., 0.7804, 0.7843, 0.7569],\n",
            "         [0.9216, 0.9373, 0.9569,  ..., 0.7686, 0.7843, 0.7608],\n",
            "         [0.9020, 0.9294, 0.9608,  ..., 0.7451, 0.7882, 0.7686],\n",
            "         ...,\n",
            "         [0.0471, 0.0549, 0.0471,  ..., 0.1765, 0.2471, 0.2824],\n",
            "         [0.0588, 0.0471, 0.0275,  ..., 0.3490, 0.3490, 0.3765],\n",
            "         [0.0667, 0.0392, 0.0157,  ..., 0.7176, 0.6667, 0.6667]],\n",
            "\n",
            "        [[0.9490, 0.9490, 0.9569,  ..., 0.7882, 0.7765, 0.7529],\n",
            "         [0.9294, 0.9373, 0.9569,  ..., 0.7765, 0.7804, 0.7569],\n",
            "         [0.9059, 0.9255, 0.9608,  ..., 0.7569, 0.7843, 0.7647],\n",
            "         ...,\n",
            "         [0.0863, 0.0941, 0.0863,  ..., 0.0392, 0.1098, 0.1451],\n",
            "         [0.0980, 0.0863, 0.0667,  ..., 0.2078, 0.2118, 0.2392],\n",
            "         [0.1059, 0.0784, 0.0549,  ..., 0.5765, 0.5294, 0.5294]],\n",
            "\n",
            "        [[0.9451, 0.9490, 0.9569,  ..., 0.7686, 0.7686, 0.7451],\n",
            "         [0.9255, 0.9373, 0.9569,  ..., 0.7569, 0.7725, 0.7490],\n",
            "         [0.9020, 0.9294, 0.9608,  ..., 0.7373, 0.7765, 0.7569],\n",
            "         ...,\n",
            "         [0.0549, 0.0627, 0.0549,  ..., 0.0235, 0.0980, 0.1294],\n",
            "         [0.0667, 0.0549, 0.0353,  ..., 0.1804, 0.2000, 0.2235],\n",
            "         [0.0745, 0.0471, 0.0235,  ..., 0.5529, 0.5137, 0.5137]]],\n",
            "       device='cuda:0'), tensor(1, device='cuda:0'))\n"
          ]
        }
      ],
      "source": [
        "print(train_dataset[0])"
      ]
    },
    {
      "cell_type": "markdown",
      "metadata": {
        "id": "ltjHllVn4juX"
      },
      "source": [
        "## Models [16 points]\n",
        "In this assignment, you will implement one CNN (Convolutional Neural Network) model and one FCN (Fully-Connected Network) model, where the class signatures are provided below."
      ]
    },
    {
      "cell_type": "markdown",
      "metadata": {
        "id": "VY-2PQauFJWn"
      },
      "source": [
        "### Convolutional Neural Network (CNN) Model [8 points]\n",
        "As the first model, you will implement a convolutional model. Your model will include 3 CONV + POOL blocks, which denotes one Convolutional layer followed by a Max Pooling Layer. The channel sizes for convolutional blocks are [16, 32, 64], respectively. For all convolutional layers, take kernel size as 3, stride as one, and apply padding such that convolutions do not change the shape on width and height dimensions. \n",
        "<br><br>\n",
        "Following the convolutional part, you will perform image classification for the dataset provided to you. You can use ReLU activation as the non-linearity in your model (except the classification layer)."
      ]
    },
    {
      "cell_type": "code",
      "execution_count": 13,
      "metadata": {
        "id": "qWm0x0_IRqr-"
      },
      "outputs": [],
      "source": [
        "class ConvNet(nn.Module):\n",
        "    def __init__(self):\n",
        "        super(ConvNet, self).__init__()\n",
        "        \n",
        "        self.conv1 = nn.Conv2d(3, 16, 3, stride=1, padding=1)\n",
        "        self.conv2 = nn.Conv2d(16, 32, 3, stride=1, padding=1)\n",
        "        self.conv3 = nn.Conv2d(32, 64, 3, stride=1, padding=1)\n",
        "        self.pool = nn.MaxPool2d(2, 2)\n",
        "        self.fc1 = nn.Linear(64 * 28 * 28, 4)\n",
        "        self.softmax = nn.Softmax(dim=1)\n",
        "\n",
        "    def forward(self, x):\n",
        "       \n",
        "        x = self.pool(F.relu(self.conv1(x)))\n",
        "        x = self.pool(F.relu(self.conv2(x)))\n",
        "        x = self.pool(F.relu(self.conv3(x)))\n",
        "        x = x.view(-1, 64 * 28 * 28)\n",
        "        x = self.fc1(x)\n",
        "        x = self.softmax(x)\n",
        "        return x\n",
        "\n",
        "\n",
        "\n"
      ]
    },
    {
      "cell_type": "markdown",
      "metadata": {
        "id": "b7plNvDmGmMO"
      },
      "source": [
        "### Fully Connected Network (FCN) Model [8 points]\n",
        "The second model you will try is a Fully Connected Network composed of Linear layers and non-linear activation functions connected to each other. For this part, the number of features for your linear layers is [1024, 512, 256]. Again, you can use ReLU as your non-linear activation function in your model (except the classification layer)."
      ]
    },
    {
      "cell_type": "code",
      "execution_count": 14,
      "metadata": {
        "id": "spwuuCJcb5H_"
      },
      "outputs": [],
      "source": [
        "\n",
        "class FCNet(nn.Module):\n",
        "    def __init__(self, num_features):\n",
        "        super(FCNet, self).__init__()\n",
        "        self.fc1 = nn.Linear(num_features, 1024)\n",
        "        self.fc2 = nn.Linear(1024, 512)\n",
        "        self.fc3 = nn.Linear(512, 256)\n",
        "        self.fc4 = nn.Linear(256, 4)\n",
        "        self.softmax = nn.Softmax(dim=1)\n",
        "\n",
        "    def forward(self, x):\n",
        "        x = x.view(-1, 3 * 224 * 224)\n",
        "        x = F.relu(self.fc1(x))\n",
        "        x = F.relu(self.fc2(x))\n",
        "        x = F.relu(self.fc3(x))\n",
        "        x = self.fc4(x)\n",
        "        x = self.softmax(x)\n",
        "        return x\n"
      ]
    },
    {
      "cell_type": "markdown",
      "metadata": {
        "id": "TAQDCw1AgAJV"
      },
      "source": [
        "## Training and Evaluation of FCN [22 points]\n",
        "\n",
        "Now that you implemented the model definition of CNN and FCN, you will train these models with the hyperparameters you chose. The hyperparameters that you may change are listed in the cell below. Using the FCN model defined, train a classifier that predicts weather condition classes specified by the dataset. For the optimizer, use [SGD](https://pytorch.org/docs/stable/generated/torch.optim.SGD.html) optimizer provided by PyTorch. You should try out different hyper-parameters like learning rates, epochs, momentum, and weight decay. For [momentum](https://machinelearningmastery.com/gradient-descent-with-momentum-from-scratch/) and [weight decay](https://paperswithcode.com/method/weight-decay), you can read about these concepts if you are interested.\n",
        "\n",
        "While training your model, save your best model over different epochs. You must select an appropriate metric to define the best model at a time step. You can implement the training procedure in the cell below. If you want to explain the reasoning behind your metric selection, you can add a markdown cell and provide your comments."
      ]
    },
    {
      "cell_type": "markdown",
      "metadata": {
        "id": "QMin6YgCgAJa"
      },
      "source": [
        "### Training [12 points]"
      ]
    },
    {
      "cell_type": "code",
      "execution_count": 15,
      "metadata": {
        "id": "bmV69xm_gAJa"
      },
      "outputs": [],
      "source": [
        "#HINT: note that your training time should not take many days.\n",
        "\n",
        "#TODO:\n",
        "#Pick your hyper parameters\n",
        "max_epoch = 60\n",
        "train_batch = 50\n",
        "test_batch = 64\n",
        "learning_rate = 5e-4\n",
        "momentum = 0.9\n",
        "weight_decay = 5e-04\n",
        "\n",
        "\n"
      ]
    },
    {
      "cell_type": "code",
      "source": [
        "\n",
        "model = FCNet(3 * 224 * 224)\n",
        "model.to(\"cuda:0\")\n",
        "\n",
        "def train_fc(model, train_dataset, max_epoch, train_batch, test_batch, learning_rate, momentum, weight_decay):\n",
        " \n",
        "    loss_t = []\n",
        "    loss_v = []\n",
        "    accuracy_v = []\n",
        "    accuracy_t = []\n",
        "    total = 0\n",
        "    correct = 0\n",
        "    \n",
        "    criterion = nn.CrossEntropyLoss()\n",
        "  \n",
        "    optimizer = torch.optim.SGD(model.parameters(), lr=learning_rate, momentum=momentum, weight_decay=weight_decay)\n",
        "   \n",
        "    train_loader = DataLoader(train_dataset, batch_size=train_batch, shuffle=True)\n",
        "    val_loader = DataLoader(val_dataset, batch_size=test_batch, shuffle=True)\n",
        "  \n",
        "    for epoch in range(max_epoch):\n",
        "        total_t = 0\n",
        "        total_v = 0\n",
        "  \n",
        "        for i, (images, labels_t) in enumerate(train_loader):\n",
        "            outputs_t = model(images)\n",
        "            loss = criterion(outputs_t, labels_t)\n",
        "            optimizer.zero_grad()\n",
        "            loss.backward()\n",
        "            optimizer.step()  \n",
        "            total_t += loss.item()\n",
        "\n",
        "        _, predicted = torch.max(outputs_t.data, 1)\n",
        "        total += labels_t.size(0)\n",
        "        correct += (predicted == labels_t).sum().item()\n",
        "        accuracy2 = 100 * correct / total\n",
        "        accuracy_t.append(accuracy2)\n",
        "         \n",
        "        total_t = total_t/(len(train_dataset)/train_batch)\n",
        "\n",
        "        model.eval()\n",
        "        for images, labels_v in val_loader:\n",
        "          outputs_v = model(images)\n",
        "          loss_val = criterion(outputs_v, labels_v)\n",
        "          \"\"\"\n",
        "            \n",
        "           optimizer.zero_grad()\n",
        "           loss_val.backward()\n",
        "           optimizer.step()\n",
        "          \"\"\"\n",
        "            \n",
        "          total_v += loss_val.item()\n",
        "        total_v = total_v/(len(val_dataset)/test_batch)\n",
        "\n",
        "        loss_v.append(total_v)\n",
        "        loss_t.append(total_t)\n",
        "      \n",
        "\n",
        "        _, predicted = torch.max(outputs_v.data, 1)\n",
        "        total += labels_v.size(0)\n",
        "        correct += (predicted == labels_v).sum().item()\n",
        "        accuracy = 100 * correct / total\n",
        "        accuracy_v.append(accuracy)\n",
        "        print('Epoch: {}/{}, Train Loss: {}, Train Accuracy: {}, Val Loss: {}, Val Accuracy: {}'.format(epoch+1, max_epoch, total_t, accuracy2, total_v, accuracy))\n",
        "    return loss_v, loss_t, accuracy_v, accuracy_t   \n"
      ],
      "metadata": {
        "id": "TNJArsC1nvIr"
      },
      "execution_count": 16,
      "outputs": []
    },
    {
      "cell_type": "code",
      "source": [
        "loss_v, loss_t, accuracy_v, accuracy_t = train_fc(model,train_dataset, max_epoch, train_batch, test_batch, learning_rate, momentum, weight_decay)"
      ],
      "metadata": {
        "colab": {
          "base_uri": "https://localhost:8080/"
        },
        "id": "09vnuoyNoS0g",
        "outputId": "a41de99c-1c21-42f2-f30e-679f7d20e79a"
      },
      "execution_count": 17,
      "outputs": [
        {
          "output_type": "stream",
          "name": "stdout",
          "text": [
            "Epoch: 1/60, Train Loss: 1.4072583924406215, Train Accuracy: 35.13513513513514, Val Loss: 1.5635172075929895, Val Accuracy: 33.72093023255814\n",
            "Epoch: 2/60, Train Loss: 1.398933456389392, Train Accuracy: 34.959349593495936, Val Loss: 1.5527212092306761, Val Accuracy: 37.2093023255814\n",
            "Epoch: 3/60, Train Loss: 1.3878556567195712, Train Accuracy: 39.23444976076555, Val Loss: 1.5369226236258988, Val Accuracy: 42.248062015503876\n",
            "Epoch: 4/60, Train Loss: 1.3741024188801476, Train Accuracy: 40.33898305084746, Val Loss: 1.517718694906319, Val Accuracy: 40.406976744186046\n",
            "Epoch: 5/60, Train Loss: 1.353563938237812, Train Accuracy: 42.25721784776903, Val Loss: 1.4902000089662264, Val Accuracy: 43.48837209302326\n",
            "Epoch: 6/60, Train Loss: 1.3290347032050165, Train Accuracy: 45.610278372591004, Val Loss: 1.4615269888818792, Val Accuracy: 46.12403100775194\n",
            "Epoch: 7/60, Train Loss: 1.3024675952130988, Train Accuracy: 45.56962025316456, Val Loss: 1.42813596472276, Val Accuracy: 46.01328903654485\n",
            "Epoch: 8/60, Train Loss: 1.2718290128429175, Train Accuracy: 46.322378716744915, Val Loss: 1.3919043751944482, Val Accuracy: 47.093023255813954\n",
            "Epoch: 9/60, Train Loss: 1.2449319965503116, Train Accuracy: 47.172413793103445, Val Loss: 1.3691125380254425, Val Accuracy: 47.41602067183462\n",
            "Epoch: 10/60, Train Loss: 1.2216320410465498, Train Accuracy: 47.71886559802713, Val Loss: 1.3440059560590085, Val Accuracy: 47.906976744186046\n",
            "Epoch: 11/60, Train Loss: 1.2050992879055658, Train Accuracy: 47.38015607580825, Val Loss: 1.3242577746906112, Val Accuracy: 48.09725158562368\n",
            "Epoch: 12/60, Train Loss: 1.1880274118886363, Train Accuracy: 48.626653102746694, Val Loss: 1.3143585340111656, Val Accuracy: 48.74031007751938\n",
            "Epoch: 13/60, Train Loss: 1.1747732247300493, Train Accuracy: 48.73713751169317, Val Loss: 1.3004023459105365, Val Accuracy: 49.284436493738816\n",
            "Epoch: 14/60, Train Loss: 1.1620527452859066, Train Accuracy: 50.12987012987013, Val Loss: 1.2822056323026134, Val Accuracy: 50.99667774086379\n",
            "Epoch: 15/60, Train Loss: 1.148161901755133, Train Accuracy: 51.49073327961322, Val Loss: 1.2667034452995367, Val Accuracy: 52.48062015503876\n",
            "Epoch: 16/60, Train Loss: 1.1383681845634683, Train Accuracy: 52.90128108515449, Val Loss: 1.2588685297333033, Val Accuracy: 53.56104651162791\n",
            "Epoch: 17/60, Train Loss: 1.1288326910520599, Train Accuracy: 54.281670205237084, Val Loss: 1.2520521720953748, Val Accuracy: 54.92476060191518\n",
            "Epoch: 18/60, Train Loss: 1.1150809679431262, Train Accuracy: 55.30353569046031, Val Loss: 1.2266592515253387, Val Accuracy: 56.26614987080104\n",
            "Epoch: 19/60, Train Loss: 1.105063449321587, Train Accuracy: 56.65615141955836, Val Loss: 1.2258163047047843, Val Accuracy: 57.28274173806609\n",
            "Epoch: 20/60, Train Loss: 1.094463221454257, Train Accuracy: 57.51047277079593, Val Loss: 1.2144275766558352, Val Accuracy: 58.08139534883721\n",
            "Epoch: 21/60, Train Loss: 1.083656399495417, Train Accuracy: 58.56573705179283, Val Loss: 1.203831697987244, Val Accuracy: 59.08084163898118\n",
            "Epoch: 22/60, Train Loss: 1.0738272981995094, Train Accuracy: 59.57677699403147, Val Loss: 1.190680714835108, Val Accuracy: 60.14799154334038\n",
            "Epoch: 23/60, Train Loss: 1.0638203107417008, Train Accuracy: 60.54950751684811, Val Loss: 1.1800178595348798, Val Accuracy: 61.07178968655207\n",
            "Epoch: 24/60, Train Loss: 1.0558235145433128, Train Accuracy: 61.29032258064516, Val Loss: 1.1657286112287404, Val Accuracy: 61.82170542635659\n",
            "Epoch: 25/60, Train Loss: 1.0478062884174428, Train Accuracy: 62.06568300809138, Val Loss: 1.1651573518736174, Val Accuracy: 62.372093023255815\n",
            "Epoch: 26/60, Train Loss: 1.0417435001084887, Train Accuracy: 62.68861454046639, Val Loss: 1.168313828189816, Val Accuracy: 62.924865831842574\n",
            "Epoch: 27/60, Train Loss: 1.0327663211083322, Train Accuracy: 63.13242410910691, Val Loss: 1.1430651234314504, Val Accuracy: 63.6520241171404\n",
            "Epoch: 28/60, Train Loss: 1.0250076897716887, Train Accuracy: 63.96778295888088, Val Loss: 1.1425200605814436, Val Accuracy: 64.28571428571429\n",
            "Epoch: 29/60, Train Loss: 1.0183838755839056, Train Accuracy: 64.49897750511248, Val Loss: 1.1297800857408913, Val Accuracy: 64.83560545308741\n",
            "Epoch: 30/60, Train Loss: 1.0132682899053396, Train Accuracy: 65.0730936388779, Val Loss: 1.125801997902119, Val Accuracy: 65.42635658914729\n",
            "Epoch: 31/60, Train Loss: 1.0069110001208972, Train Accuracy: 65.72411157814291, Val Loss: 1.1174554402849315, Val Accuracy: 66.09152288072018\n",
            "Epoch: 32/60, Train Loss: 1.0036116633966583, Train Accuracy: 66.29670736219016, Val Loss: 1.1149507370670284, Val Accuracy: 66.56976744186046\n",
            "Epoch: 33/60, Train Loss: 1.0001371859595312, Train Accuracy: 66.90570096808892, Val Loss: 1.1091219134035364, Val Accuracy: 67.23044397463002\n",
            "Epoch: 34/60, Train Loss: 0.9992700292618787, Train Accuracy: 67.40869565217392, Val Loss: 1.1127402381559388, Val Accuracy: 67.51025991792066\n",
            "Epoch: 35/60, Train Loss: 0.9923935201601273, Train Accuracy: 67.64606551840595, Val Loss: 1.1062402978407597, Val Accuracy: 67.87375415282392\n",
            "Epoch: 36/60, Train Loss: 0.9881688951688619, Train Accuracy: 68.09977026583525, Val Loss: 1.0978352369460385, Val Accuracy: 68.37855297157623\n",
            "Epoch: 37/60, Train Loss: 0.9852372857788163, Train Accuracy: 68.59240344717523, Val Loss: 1.0992710484867603, Val Accuracy: 68.73035826524199\n",
            "Epoch: 38/60, Train Loss: 0.9854969295189069, Train Accuracy: 68.74805840323081, Val Loss: 1.090901062551853, Val Accuracy: 68.9718482252142\n",
            "Epoch: 39/60, Train Loss: 0.9822614689794247, Train Accuracy: 69.07715582450832, Val Loss: 1.098525021983459, Val Accuracy: 69.1711389385808\n",
            "Epoch: 40/60, Train Loss: 0.9775649902932677, Train Accuracy: 69.3305809495724, Val Loss: 1.09683713659776, Val Accuracy: 69.4186046511628\n",
            "Epoch: 41/60, Train Loss: 0.9729829722165758, Train Accuracy: 69.65775093471383, Val Loss: 1.0897458844480261, Val Accuracy: 69.73908111174136\n",
            "Epoch: 42/60, Train Loss: 0.9729258290088464, Train Accuracy: 69.88492843109739, Val Loss: 1.0853034162943342, Val Accuracy: 70.01661129568106\n",
            "Epoch: 43/60, Train Loss: 0.9706293536868452, Train Accuracy: 70.23842148533845, Val Loss: 1.0833046499606782, Val Accuracy: 70.33531638723635\n",
            "Epoch: 44/60, Train Loss: 0.966637342070079, Train Accuracy: 70.46854082998661, Val Loss: 1.0819852373241323, Val Accuracy: 70.58668076109936\n",
            "Epoch: 45/60, Train Loss: 0.966801686541401, Train Accuracy: 70.68830149175608, Val Loss: 1.0805549621582031, Val Accuracy: 70.82687338501292\n",
            "Epoch: 46/60, Train Loss: 0.9636347372619745, Train Accuracy: 71.05195802405937, Val Loss: 1.0718483376292, Val Accuracy: 71.18301314459049\n",
            "Epoch: 47/60, Train Loss: 0.9639933459186191, Train Accuracy: 71.22464312546957, Val Loss: 1.0713000339744365, Val Accuracy: 71.35081642751113\n",
            "Epoch: 48/60, Train Loss: 0.9594907943902506, Train Accuracy: 71.43907820544251, Val Loss: 1.0779805141212666, Val Accuracy: 71.51162790697674\n",
            "Epoch: 49/60, Train Loss: 0.9578423434927624, Train Accuracy: 71.62064825930372, Val Loss: 1.0726988125691372, Val Accuracy: 71.71333649738965\n",
            "Epoch: 50/60, Train Loss: 0.9606706634107054, Train Accuracy: 71.67725241119737, Val Loss: 1.070486490705372, Val Accuracy: 71.79069767441861\n",
            "Epoch: 51/60, Train Loss: 0.9573310045608269, Train Accuracy: 71.82384136499884, Val Loss: 1.0568818286456894, Val Accuracy: 72.00182398540812\n",
            "Epoch: 52/60, Train Loss: 0.9511573872087569, Train Accuracy: 72.14560253221795, Val Loss: 1.0675136599920492, Val Accuracy: 72.22719141323792\n",
            "Epoch: 53/60, Train Loss: 0.9524031053504314, Train Accuracy: 72.27766688844534, Val Loss: 1.0654448787722968, Val Accuracy: 72.33435717419921\n",
            "Epoch: 54/60, Train Loss: 0.9487907874387282, Train Accuracy: 72.42655059847661, Val Loss: 1.0706873193251347, Val Accuracy: 72.48062015503876\n",
            "Epoch: 55/60, Train Loss: 0.948279974875638, Train Accuracy: 72.59132663960692, Val Loss: 1.0684947461153553, Val Accuracy: 72.64270613107823\n",
            "Epoch: 56/60, Train Loss: 0.9462249059386295, Train Accuracy: 72.72917977763792, Val Loss: 1.0597714787035917, Val Accuracy: 72.79900332225914\n",
            "Epoch: 57/60, Train Loss: 0.9439513787835495, Train Accuracy: 72.88275293632805, Val Loss: 1.0564924256991497, Val Accuracy: 73.0110159118727\n",
            "Epoch: 58/60, Train Loss: 0.9431512640573775, Train Accuracy: 73.13221299858272, Val Loss: 1.0573278781587043, Val Accuracy: 73.23576583801123\n",
            "Epoch: 59/60, Train Loss: 0.9397806819845488, Train Accuracy: 73.41293532338308, Val Loss: 1.060931923115148, Val Accuracy: 73.433188805676\n",
            "Epoch: 60/60, Train Loss: 0.9389455277553205, Train Accuracy: 73.5668166699276, Val Loss: 1.053813900567789, Val Accuracy: 73.64341085271317\n"
          ]
        }
      ]
    },
    {
      "cell_type": "markdown",
      "metadata": {
        "id": "AerO0TZ0gAJa"
      },
      "source": [
        "### Learning Process Analysis [5 points]\n",
        "Following the training step, you will now provide accuracy and loss plots over all epochs. For this, provide two plots:\n",
        "- In the first plot, you will provide the value of the accuracy metric over epochs. Your plot should include two curves, one for the training set and the other for the validation set.\n",
        "- For the second plot, provide the curve for loss values over epochs. Again your plot should include two curves, where one indicates loss on the training set and the second indicates loss for the validation set."
      ]
    },
    {
      "cell_type": "code",
      "execution_count": 18,
      "metadata": {
        "id": "iiXtRpe9RI11",
        "colab": {
          "base_uri": "https://localhost:8080/",
          "height": 265
        },
        "outputId": "0fa492c9-b47c-4a85-d981-257a44e03c92"
      },
      "outputs": [
        {
          "output_type": "display_data",
          "data": {
            "text/plain": [
              "<Figure size 432x288 with 1 Axes>"
            ],
            "image/png": "[encoded data removed]"
          },
          "metadata": {
            "needs_background": "light"
          }
        }
      ],
      "source": [
        "# TODO: Implement your plots here, you can use matplotlib library to do so.\n",
        "#loss curve\n",
        "plt.plot(loss_t, label='Training loss')\n",
        "plt.plot(loss_v, label='Validation loss')\n",
        "plt.legend(frameon=False)\n",
        "plt.show()"
      ]
    },
    {
      "cell_type": "code",
      "source": [
        "plt.figure(figsize=(10,6))\n",
        "plt.plot(accuracy_v, label = \"Validation Accuracy at each epoch\")\n",
        "plt.plot(accuracy_t, label = \"Training Accuracy at each epoch\")\n",
        "plt.legend(frameon=False)\n",
        "plt.show()"
      ],
      "metadata": {
        "colab": {
          "base_uri": "https://localhost:8080/",
          "height": 374
        },
        "id": "W-cTMwmow0fu",
        "outputId": "716f1cb1-c2ab-4939-d0a6-d7171a8eb163"
      },
      "execution_count": 19,
      "outputs": [
        {
          "output_type": "display_data",
          "data": {
            "text/plain": [
              "<Figure size 720x432 with 1 Axes>"
            ],
            "image/png": "[encoded data removed]"
          },
          "metadata": {
            "needs_background": "light"
          }
        }
      ]
    },
    {
      "cell_type": "code",
      "source": [
        "torch.save(model.state_dict(), 'model.pth')\n",
        "model.load_state_dict(torch.load('model.pth'))"
      ],
      "metadata": {
        "colab": {
          "base_uri": "https://localhost:8080/"
        },
        "id": "-x2N6VyABXeZ",
        "outputId": "8b851389-7889-4a80-a06b-0d76c4843bf0"
      },
      "execution_count": 22,
      "outputs": [
        {
          "output_type": "execute_result",
          "data": {
            "text/plain": [
              "<All keys matched successfully>"
            ]
          },
          "metadata": {},
          "execution_count": 22
        }
      ]
    },
    {
      "cell_type": "markdown",
      "metadata": {
        "id": "y0ZcDuLQQysp"
      },
      "source": [
        "### Test [5 points]\n",
        "As the final step of your analysis, you will test your model using some metrics. For the best model you obtained during training, evaluate your model on the test set. Then, report the confusion matrix. Finally, report accuracy, precision, recall, and $F_1$ score using your model. Report all these metrics using the macro form (macro precision, macro recall, etc.). You can implement these metrics in the cell below. "
      ]
    },
    {
      "cell_type": "code",
      "execution_count": 23,
      "metadata": {
        "id": "ptAiYhAIR6O5"
      },
      "outputs": [],
      "source": [
        "# TODO: Implement your evaluation script here, provide the confusion matrix and the requested metrics\n",
        "def test_fc(test_dataset, test_batch):\n",
        "    model = FCNet(3 * 224 * 224)\n",
        "    model.load_state_dict(torch.load('model.pth'))\n",
        "    model.to(\"cuda:0\")\n",
        "    model.eval()\n",
        "    test_loader = DataLoader(test_dataset, batch_size=test_batch, shuffle=True)\n",
        "    y_true = np.array([])\n",
        "    y_pred = np.array([])\n",
        "    with torch.no_grad():\n",
        "        for images, labels in test_loader:\n",
        "            outputs = model(images)\n",
        "            predicted = outputs.argmax(dim = 1, keepdim = True).squeeze()\n",
        "            y_true = np.append(y_true,labels.cpu())\n",
        "            y_pred = np.append(y_pred,predicted.cpu())  \n",
        "\n",
        "    \n",
        "    print('Test Accuracy: {}%'.format(100*accuracy_score(y_true,y_pred)))\n",
        "    print('Precision: {}'.format(100*precision_score(y_true, y_pred, average='macro')))\n",
        "    print('Recall: {}'.format(100*recall_score(y_true, y_pred, average='macro')))\n",
        "    print('F1 Score: {}'.format(100*f1_score(y_true, y_pred, average='macro')))\n",
        "    print('Confusion Matrix: {}'.format(confusion_matrix(y_true, y_pred)))"
      ]
    },
    {
      "cell_type": "code",
      "source": [
        "test_fc(test_dataset, test_batch)"
      ],
      "metadata": {
        "colab": {
          "base_uri": "https://localhost:8080/"
        },
        "id": "ytHuqqzUwLpb",
        "outputId": "88d2f1e9-ea76-41c5-a99b-1a2e33fb0baa"
      },
      "execution_count": 24,
      "outputs": [
        {
          "output_type": "stream",
          "name": "stdout",
          "text": [
            "Test Accuracy: 80.88888888888889%\n",
            "Precision: 78.16864721416059\n",
            "Recall: 78.58880568356375\n",
            "F1 Score: 78.27474953302767\n",
            "Confusion Matrix: [[41 10 10  1]\n",
            " [ 4 22  4  2]\n",
            " [ 9  1 46  0]\n",
            " [ 1  0  1 73]]\n"
          ]
        }
      ]
    },
    {
      "cell_type": "markdown",
      "metadata": {
        "id": "fVgI--N4B7lR"
      },
      "source": [
        "## Training and evaluation of CNN [22 points]\n",
        "Similar to the FCN model, you will now train the CNN model that you defined before. Again you are free to try out different hyperparameters. This model also will classify weather images with the four classes provided by the dataset. As the optimizer, again, use the SGD implementation provided by PyTorch. You can implement the training loop in the following cell. \n",
        "\n",
        "Similar to the training procedure, you need to save the best model you obtain during training. Select an appropriate criterion (metric) to save the best model. If you wish, you can add a markdown cell to explain your reasoning."
      ]
    },
    {
      "cell_type": "markdown",
      "metadata": {
        "id": "mw1OF9Fl42Bc"
      },
      "source": [
        "### Training [12 points]"
      ]
    },
    {
      "cell_type": "code",
      "source": [
        "#call the train function for fcn and apply the cnn model to it\n",
        "max_epoch = 60\n",
        "train_batch = 64\n",
        "test_batch = 64\n",
        "learning_rate = 5e-4\n",
        "momentum = 0.9\n",
        "weight_decay = 5e-04\n",
        "model1 = ConvNet()\n",
        "model1.to(\"cuda:0\")\n",
        "tloss_cnn, vloss_cnn, val_acc, train_acc = train_fc(model1, train_dataset, max_epoch, train_batch, test_batch, learning_rate, momentum, weight_decay)\n",
        "torch.save(model1.state_dict(), 'model1.pth')\n",
        "model1.load_state_dict(torch.load('model1.pth'))"
      ],
      "metadata": {
        "id": "0dgEk-aEwBBa",
        "colab": {
          "base_uri": "https://localhost:8080/"
        },
        "outputId": "ad60d218-df3c-4c99-9e6a-4b8bc6b83d54"
      },
      "execution_count": 40,
      "outputs": [
        {
          "output_type": "stream",
          "name": "stdout",
          "text": [
            "Epoch: 1/60, Train Loss: 1.464818176502194, Train Accuracy: 31.57894736842105, Val Loss: 1.567206593741358, Val Accuracy: 32.35294117647059\n",
            "Epoch: 2/60, Train Loss: 1.461774542492257, Train Accuracy: 32.18390804597701, Val Loss: 1.563314522262168, Val Accuracy: 31.61764705882353\n",
            "Epoch: 3/60, Train Loss: 1.4583480912515139, Train Accuracy: 30.322580645161292, Val Loss: 1.5590453021294248, Val Accuracy: 30.392156862745097\n",
            "Epoch: 4/60, Train Loss: 1.4531457069716884, Train Accuracy: 30.94170403587444, Val Loss: 1.5538320625777793, Val Accuracy: 31.61764705882353\n",
            "Epoch: 5/60, Train Loss: 1.4513945331113007, Train Accuracy: 31.61512027491409, Val Loss: 1.5499254074771847, Val Accuracy: 31.470588235294116\n",
            "Epoch: 6/60, Train Loss: 1.4459075346077868, Train Accuracy: 31.754874651810585, Val Loss: 1.5449062786271086, Val Accuracy: 31.61764705882353\n",
            "Epoch: 7/60, Train Loss: 1.4413655922100839, Train Accuracy: 31.850117096018735, Val Loss: 1.5375854357153969, Val Accuracy: 32.35294117647059\n",
            "Epoch: 8/60, Train Loss: 1.4396447517365936, Train Accuracy: 32.121212121212125, Val Loss: 1.5326338911478499, Val Accuracy: 31.985294117647058\n",
            "Epoch: 9/60, Train Loss: 1.433390247776366, Train Accuracy: 31.793960923623445, Val Loss: 1.5253022455536158, Val Accuracy: 32.35294117647059\n",
            "Epoch: 10/60, Train Loss: 1.4249262924872934, Train Accuracy: 32.646592709984155, Val Loss: 1.517607494793107, Val Accuracy: 32.94117647058823\n",
            "Epoch: 11/60, Train Loss: 1.4193580171810476, Train Accuracy: 32.904148783977114, Val Loss: 1.5013786923568861, Val Accuracy: 34.224598930481285\n",
            "Epoch: 12/60, Train Loss: 1.4114559905501758, Train Accuracy: 34.289439374185136, Val Loss: 1.4930216696410052, Val Accuracy: 35.17156862745098\n",
            "Epoch: 13/60, Train Loss: 1.3971542881889294, Train Accuracy: 35.449101796407184, Val Loss: 1.4811411494702365, Val Accuracy: 36.31221719457014\n",
            "Epoch: 14/60, Train Loss: 1.3913300258534684, Train Accuracy: 36.434108527131784, Val Loss: 1.4693726396138689, Val Accuracy: 36.86974789915966\n",
            "Epoch: 15/60, Train Loss: 1.3753304584508022, Train Accuracy: 37.075180226570545, Val Loss: 1.4454987787567408, Val Accuracy: 38.23529411764706\n",
            "Epoch: 16/60, Train Loss: 1.3603378063235834, Train Accuracy: 38.59480269489894, Val Loss: 1.4350735824719993, Val Accuracy: 39.154411764705884\n",
            "Epoch: 17/60, Train Loss: 1.3483614212675954, Train Accuracy: 39.20505871725384, Val Loss: 1.4159801111812085, Val Accuracy: 39.792387543252595\n",
            "Epoch: 18/60, Train Loss: 1.3284381250868607, Train Accuracy: 39.91489361702128, Val Loss: 1.4004697546494747, Val Accuracy: 40.60457516339869\n",
            "Epoch: 19/60, Train Loss: 1.3129672349786818, Train Accuracy: 40.78841512469831, Val Loss: 1.3760234866522054, Val Accuracy: 41.56346749226006\n",
            "Epoch: 20/60, Train Loss: 1.2905759023741512, Train Accuracy: 41.800152555301295, Val Loss: 1.3559491993051715, Val Accuracy: 42.5\n",
            "Epoch: 21/60, Train Loss: 1.2743770012861588, Train Accuracy: 42.567077592458304, Val Loss: 1.3341762576482992, Val Accuracy: 43.34733893557423\n",
            "Epoch: 22/60, Train Loss: 1.2584275726744907, Train Accuracy: 43.46924671734623, Val Loss: 1.319698705082446, Val Accuracy: 44.18449197860963\n",
            "Epoch: 23/60, Train Loss: 1.2310625728233948, Train Accuracy: 44.62046204620462, Val Loss: 1.3097125703254633, Val Accuracy: 45.012787723785166\n",
            "Epoch: 24/60, Train Loss: 1.2176760197291683, Train Accuracy: 45.230574857864816, Val Loss: 1.2800865510923674, Val Accuracy: 45.89460784313726\n",
            "Epoch: 25/60, Train Loss: 1.2027868346004655, Train Accuracy: 46.09327680193822, Val Loss: 1.269033853986622, Val Accuracy: 46.76470588235294\n",
            "Epoch: 26/60, Train Loss: 1.1815744615722035, Train Accuracy: 47.062245491564866, Val Loss: 1.2446239775260992, Val Accuracy: 47.794117647058826\n",
            "Epoch: 27/60, Train Loss: 1.1753406742779393, Train Accuracy: 47.95747062115277, Val Loss: 1.2340252631533462, Val Accuracy: 48.529411764705884\n",
            "Epoch: 28/60, Train Loss: 1.1495956362732787, Train Accuracy: 49.056603773584904, Val Loss: 1.2080128087406665, Val Accuracy: 49.89495798319328\n",
            "Epoch: 29/60, Train Loss: 1.1357373888338083, Train Accuracy: 50.234009360374415, Val Loss: 1.1980837931675195, Val Accuracy: 50.96348884381339\n",
            "Epoch: 30/60, Train Loss: 1.121139250080346, Train Accuracy: 51.28076343545957, Val Loss: 1.1760968233631774, Val Accuracy: 51.96078431372549\n",
            "Epoch: 31/60, Train Loss: 1.1039580862585745, Train Accuracy: 52.20981058766392, Val Loss: 1.1627592238704716, Val Accuracy: 52.94117647058823\n",
            "Epoch: 32/60, Train Loss: 1.090500813427238, Train Accuracy: 53.26751292900799, Val Loss: 1.1585795647275132, Val Accuracy: 53.768382352941174\n",
            "Epoch: 33/60, Train Loss: 1.083938123613331, Train Accuracy: 53.98633257403189, Val Loss: 1.1428094711978878, Val Accuracy: 54.590017825311946\n",
            "Epoch: 34/60, Train Loss: 1.0783060842123844, Train Accuracy: 54.88289880689351, Val Loss: 1.1328125675167657, Val Accuracy: 55.32006920415225\n",
            "Epoch: 35/60, Train Loss: 1.0579085877162833, Train Accuracy: 55.46975546975547, Val Loss: 1.118288732207982, Val Accuracy: 55.96638655462185\n",
            "Epoch: 36/60, Train Loss: 1.0556391433657655, Train Accuracy: 56.02334305960817, Val Loss: 1.1066875964139415, Val Accuracy: 56.5359477124183\n",
            "Epoch: 37/60, Train Loss: 1.0378369982088083, Train Accuracy: 56.74908796108634, Val Loss: 1.1153894272525753, Val Accuracy: 57.11446740858506\n",
            "Epoch: 38/60, Train Loss: 1.0361626078546275, Train Accuracy: 57.31755424063116, Val Loss: 1.0946284268809632, Val Accuracy: 57.77863777089783\n",
            "Epoch: 39/60, Train Loss: 1.0229097194259624, Train Accuracy: 58.009988474836724, Val Loss: 1.08571479594813, Val Accuracy: 58.55957767722474\n",
            "Epoch: 40/60, Train Loss: 1.027442185669721, Train Accuracy: 58.62972669412205, Val Loss: 1.0813112849682833, Val Accuracy: 59.00735294117647\n",
            "Epoch: 41/60, Train Loss: 1.019642753552603, Train Accuracy: 59.109163928441035, Val Loss: 1.0776574126387064, Val Accuracy: 59.54088952654232\n",
            "Epoch: 42/60, Train Loss: 1.014883097123918, Train Accuracy: 59.74349839686498, Val Loss: 1.0702657783980918, Val Accuracy: 60.08403361344538\n",
            "Epoch: 43/60, Train Loss: 1.0188836094081932, Train Accuracy: 60.243478260869566, Val Loss: 1.0764666194409396, Val Accuracy: 60.601915184678525\n",
            "Epoch: 44/60, Train Loss: 1.0106847537669628, Train Accuracy: 60.652395514780835, Val Loss: 1.0643615047488593, Val Accuracy: 61.06283422459893\n",
            "Epoch: 45/60, Train Loss: 1.0005069669653228, Train Accuracy: 61.1424775821986, Val Loss: 1.0612814911698873, Val Accuracy: 61.470588235294116\n",
            "Epoch: 46/60, Train Loss: 0.9993012366482688, Train Accuracy: 61.61091263397207, Val Loss: 1.0573971166019946, Val Accuracy: 61.95652173913044\n",
            "Epoch: 47/60, Train Loss: 0.9983825780536502, Train Accuracy: 62.090880203368286, Val Loss: 1.0588020054639968, Val Accuracy: 62.51564455569462\n",
            "Epoch: 48/60, Train Loss: 0.9930598878193992, Train Accuracy: 62.61275272161742, Val Loss: 1.0546262960518356, Val Accuracy: 62.89828431372549\n",
            "Epoch: 49/60, Train Loss: 0.9864850171487849, Train Accuracy: 62.99116661590009, Val Loss: 1.0690447714476459, Val Accuracy: 63.175270108043215\n",
            "Epoch: 50/60, Train Loss: 0.9882960143810307, Train Accuracy: 63.26469710534169, Val Loss: 1.054459630915549, Val Accuracy: 63.5\n",
            "Epoch: 51/60, Train Loss: 0.9748686580827609, Train Accuracy: 63.6150921322024, Val Loss: 1.0536328543603948, Val Accuracy: 63.81199538638985\n",
            "Epoch: 52/60, Train Loss: 0.970446779282605, Train Accuracy: 64.00917694293089, Val Loss: 1.0405377075735447, Val Accuracy: 64.33823529411765\n",
            "Epoch: 53/60, Train Loss: 0.9679805605353969, Train Accuracy: 64.52883263009845, Val Loss: 1.05089933682332, Val Accuracy: 64.76137624861265\n",
            "Epoch: 54/60, Train Loss: 0.9779385441897633, Train Accuracy: 64.80817002484129, Val Loss: 1.0442061635245263, Val Accuracy: 65.0871459694989\n",
            "Epoch: 55/60, Train Loss: 0.9673247088925508, Train Accuracy: 65.23977241939853, Val Loss: 1.028530188366375, Val Accuracy: 65.58823529411765\n",
            "Epoch: 56/60, Train Loss: 0.9675194184086374, Train Accuracy: 65.70896515030593, Val Loss: 1.0518977747554272, Val Accuracy: 65.86134453781513\n",
            "Epoch: 57/60, Train Loss: 0.9684311746793599, Train Accuracy: 65.95244316697152, Val Loss: 1.0345620687029002, Val Accuracy: 66.2796697626419\n",
            "Epoch: 58/60, Train Loss: 0.9675613509957339, Train Accuracy: 66.3157894736842, Val Loss: 1.0385783035143288, Val Accuracy: 66.50608519269777\n",
            "Epoch: 59/60, Train Loss: 0.9657594082164643, Train Accuracy: 66.59096643956599, Val Loss: 1.0359446095154348, Val Accuracy: 66.82452642073778\n",
            "Epoch: 60/60, Train Loss: 0.967195508440689, Train Accuracy: 66.881667080129, Val Loss: 1.0394361715401168, Val Accuracy: 67.05882352941177\n"
          ]
        },
        {
          "output_type": "execute_result",
          "data": {
            "text/plain": [
              "<All keys matched successfully>"
            ]
          },
          "metadata": {},
          "execution_count": 40
        }
      ]
    },
    {
      "cell_type": "markdown",
      "metadata": {
        "id": "vOiPy1hI44gy"
      },
      "source": [
        "### Learning Process Analysis [3 points]\n",
        "Repeating the same procedure you applied for the FCN model; you will provide two plots about how your training proceeds over epochs. Again, provide two plots: one summarizes the loss values, and the other summarizes the accuracy values. Note that each plot needs to include two curves, one for the validation set and the other for the training set."
      ]
    },
    {
      "cell_type": "code",
      "execution_count": 41,
      "metadata": {
        "id": "lFwAi_zPelX6",
        "colab": {
          "base_uri": "https://localhost:8080/",
          "height": 265
        },
        "outputId": "9ee7faa8-ae58-46c2-b4d1-3dc0144b8efa"
      },
      "outputs": [
        {
          "output_type": "display_data",
          "data": {
            "text/plain": [
              "<Figure size 432x288 with 1 Axes>"
            ],
            "image/png": "[encoded data removed]"
          },
          "metadata": {
            "needs_background": "light"
          }
        }
      ],
      "source": [
        "# TODO: Implement your plots here, you can use matplotlib library to do so.\n",
        "#loss curve\n",
        "plt.plot(tloss_cnn, label='Training loss')\n",
        "plt.plot(vloss_cnn, label='Validation loss')\n",
        "plt.legend(frameon=False)\n",
        "plt.show()\n"
      ]
    },
    {
      "cell_type": "code",
      "source": [
        "plt.figure(figsize=(10,6))\n",
        "plt.plot(val_acc, label = \"Validation Accuracy at each epoch\")\n",
        "plt.plot(train_acc, label = \"Training Accuracy at each epoch\")\n",
        "plt.legend(frameon=False)\n",
        "plt.show()"
      ],
      "metadata": {
        "colab": {
          "base_uri": "https://localhost:8080/",
          "height": 374
        },
        "id": "ZfUCW25T4v6H",
        "outputId": "e9eff1d8-eb2d-4ef7-bfc0-7e252e956ac2"
      },
      "execution_count": 42,
      "outputs": [
        {
          "output_type": "display_data",
          "data": {
            "text/plain": [
              "<Figure size 720x432 with 1 Axes>"
            ],
            "image/png": "[encoded data removed]"
          },
          "metadata": {
            "needs_background": "light"
          }
        }
      ]
    },
    {
      "cell_type": "markdown",
      "metadata": {
        "id": "2Ccx_9g54-GS"
      },
      "source": [
        "### Test [4 points]\n",
        "Concluding your analysis, report the confusion matrix for the best model you obtained during your CNN model training. Then using this confusion matrix, report accuracy, recall, precision, and $F_1$ score for your best model. Use macro averaging in all of your metrics."
      ]
    },
    {
      "cell_type": "code",
      "execution_count": 48,
      "metadata": {
        "id": "t7USNWHYemYo"
      },
      "outputs": [],
      "source": [
        "# TODO: Implement your evaluation script here, provide the confusion matrix and the requested metrics\n",
        "def test_CNN(model, test_dataset, test_batch):\n",
        "    model.load_state_dict(torch.load('model1.pth'))\n",
        "    model.to(\"cuda:0\")\n",
        "    model.eval()\n",
        "    test_loader = DataLoader(test_dataset, batch_size=test_batch, shuffle=True)\n",
        "    y_true = np.array([])\n",
        "    y_pred = np.array([])\n",
        "    with torch.no_grad():\n",
        "        for images, labels in test_loader:\n",
        "            outputs = model(images)\n",
        "            predicted = outputs.argmax(dim = 1, keepdim = True).squeeze()\n",
        "            y_true = np.append(y_true,labels.cpu())\n",
        "            y_pred = np.append(y_pred,predicted.cpu())  \n",
        "\n",
        "    \n",
        "    print('Test Accuracy: {}%'.format(100*accuracy_score(y_true,y_pred)))\n",
        "    print('Precision: {}'.format(100*precision_score(y_true, y_pred, average='macro')))\n",
        "    print('Recall: {}'.format(100*recall_score(y_true, y_pred, average='macro')))\n",
        "    print('F1 Score: {}'.format(100*f1_score(y_true, y_pred, average='macro')))\n",
        "    print('Confusion Matrix: {}'.format(confusion_matrix(y_true, y_pred)))"
      ]
    },
    {
      "cell_type": "code",
      "source": [
        "test_CNN(model1, test_dataset, test_batch)"
      ],
      "metadata": {
        "id": "2SVvQjHPADJF",
        "colab": {
          "base_uri": "https://localhost:8080/"
        },
        "outputId": "6cdfa282-60e3-448f-e03b-1dde8a97246f"
      },
      "execution_count": 50,
      "outputs": [
        {
          "output_type": "stream",
          "name": "stdout",
          "text": [
            "Test Accuracy: 81.77777777777779%\n",
            "Precision: 79.15503081128195\n",
            "Recall: 80.70214093701998\n",
            "F1 Score: 79.41355415332568\n",
            "Confusion Matrix: [[36 12 10  4]\n",
            " [ 5 25  1  1]\n",
            " [ 5  1 50  0]\n",
            " [ 1  0  1 73]]\n"
          ]
        }
      ]
    },
    {
      "cell_type": "markdown",
      "metadata": {
        "id": "vPK3UZ9besKr"
      },
      "source": [
        "### Discussion [3 points]\n",
        "Now, try to compare the two models that you trained. How different are these two models regarding the number of parameters used?\n",
        "\n",
        "Explain your findings by connecting them with your experimental results. You can include your comments on a separate Markdown cell or below the question statement.\n",
        "\n",
        "The two models gave similar results in terms of performance metrics (accuracy, precision, recall and F1 score) with convolutional neural network producing slightly better outputs. However, the parameters I used are different for the models. For fully connected network, the training batch is 50, whereas for the CNN, it is 64. Applying this slight difference to the models caused them to perform better because when I tried to train the CNN with a training batch size of 64, the training and validation accuracies turned out to be about 5-10% lower than they are now. "
      ]
    },
    {
      "cell_type": "markdown",
      "metadata": {
        "id": "RaSufbDNrt_H"
      },
      "source": [
        "## Transfer Learning [22 points]\n",
        "\n",
        "As the last part of this assignment, you will practice transfer learning. In this methodology, we aim to use models trained on large-scale datasets for our task. As we do not have access to large datasets and computational resources all the time, we sometimes try to use already trained models (on other datasets) as a good starting point for our model, and then fine-tune the weights considering our task.  \n",
        "\n",
        "Torchvision library provides numerous models pretrained for specific tasks. [Here](https://pytorch.org/vision/stable/models.html), you can find a list of pretrained models. For this part, you will include [ResNet](https://arxiv.org/abs/1512.03385)-18 model, pretrained with ImageNet dataset. ImageNet is a large dataset where training from scratch would take a long time. You will fine-tune this pretrained module for your task. \n",
        "<br>\n",
        "**Hint:** You can add a Linear layer to adapt the model to the number of classes needed for your task. You can access the number of inputs to the ResNet-18 model as $\\texttt{model.fc.in_features}$ and then modify the fully connected layer of the model $\\texttt{model.fc}$.\n",
        "<br>\n",
        "\n",
        "Using the ResNet-18 backbone, implement this model's training loop (by adapting it to your task). You can implement the training procedure in the cell provided below. Again save your model based on a criterion indicating the best model. Explain the reasoning for your criteria. Use the SGD optimizer provided by PyTorch to optimize your model.\n",
        "\n",
        "Just like the previous parts, you can also tune your hyperparameters to optimize your model's performance. "
      ]
    },
    {
      "cell_type": "markdown",
      "metadata": {
        "id": "s1O0rHumXDob"
      },
      "source": [
        "###Training [12 points]"
      ]
    },
    {
      "cell_type": "code",
      "source": [
        "def resnet(model, train_dataset, max_epoch, train_batch, test_batch, learning_rate, momentum, weight_decay):\n",
        "    for param in model.parameters():\n",
        "        param.requires_grad = False\n",
        "    \n",
        "    model.fc = nn.Linear(512, 4)\n",
        "    model.to(\"cuda:0\")\n",
        "    \n",
        "    loss_t = []\n",
        "    loss_v = []\n",
        "    accuracy_v = []\n",
        "    accuracy_t = []\n",
        "    total = 0\n",
        "    correct = 0\n",
        "    \n",
        "    criterion = nn.CrossEntropyLoss()\n",
        "  \n",
        "    optimizer = torch.optim.SGD(model.parameters(), lr=learning_rate, momentum=momentum, weight_decay=weight_decay)\n",
        "   \n",
        "    train_loader = DataLoader(train_dataset, batch_size=train_batch, shuffle=True)\n",
        "    val_loader = DataLoader(val_dataset, batch_size=test_batch, shuffle=True)\n",
        "  \n",
        "    for epoch in range(max_epoch):\n",
        "        total_t = 0\n",
        "        total_v = 0\n",
        "  \n",
        "        for i, (images, labels_t) in enumerate(train_loader):\n",
        "            outputs_t = model(images)\n",
        "            loss = criterion(outputs_t, labels_t)\n",
        "            optimizer.zero_grad()\n",
        "            loss.backward()\n",
        "            optimizer.step()  \n",
        "            total_t += loss.item()\n",
        "\n",
        "        _, predicted = torch.max(outputs_t.data, 1)\n",
        "        total += labels_t.size(0)\n",
        "        correct += (predicted == labels_t).sum().item()\n",
        "        accuracy2 = 100 * correct / total\n",
        "        accuracy_t.append(accuracy2)\n",
        "         \n",
        "        total_t = total_t/(len(train_dataset)/train_batch)\n",
        "\n",
        "        model.eval()\n",
        "        for images, labels_v in val_loader:\n",
        "          outputs_v = model(images)\n",
        "          loss_val = criterion(outputs_v, labels_v)\n",
        "          \"\"\"\n",
        "            \n",
        "           optimizer.zero_grad()\n",
        "           loss_val.backward()\n",
        "           optimizer.step()\n",
        "          \"\"\"\n",
        "            \n",
        "          total_v += loss_val.item()\n",
        "        total_v = total_v/(len(val_dataset)/test_batch)\n",
        "\n",
        "        loss_v.append(total_v)\n",
        "        loss_t.append(total_t)\n",
        "      \n",
        "\n",
        "        _, predicted = torch.max(outputs_v.data, 1)\n",
        "        total += labels_v.size(0)\n",
        "        correct += (predicted == labels_v).sum().item()\n",
        "        accuracy = 100 * correct / total\n",
        "        accuracy_v.append(accuracy)\n",
        "        print('Epoch: {}/{}, Train Loss: {}, Train Accuracy: {}, Val Loss: {}, Val Accuracy: {}'.format(epoch+1, max_epoch, total_t, accuracy2, total_v, accuracy))\n",
        "    return loss_v, loss_t, accuracy_v, accuracy_t  "
      ],
      "metadata": {
        "id": "Tx0BMxlhhHJf"
      },
      "execution_count": 51,
      "outputs": []
    },
    {
      "cell_type": "code",
      "source": [
        "max_epoch = 60\n",
        "train_batch = 64\n",
        "test_batch = 64\n",
        "learning_rate = 5e-4\n",
        "weight_decay = 5e-04\n",
        "\n",
        "model2 = models.resnet18(pretrained=True)\n",
        "loss_v, loss_t, accuracy_v, accuracy_t  = resnet(model2, train_dataset, max_epoch, train_batch, test_batch, learning_rate, momentum, weight_decay)\n",
        "torch.save(model2.state_dict(), 'model2.pth')\n",
        "model2.load_state_dict(torch.load('model2.pth'))"
      ],
      "metadata": {
        "colab": {
          "base_uri": "https://localhost:8080/",
          "height": 1000,
          "referenced_widgets": [
            "33f259e4a0bd449a9daa9fe7d5d2be6c",
            "654e9d0e67a142dd88b5bc549a57ca4b",
            "70b0c8b4298a42f8979147deb7a55005",
            "3b08e31f13d04e67844884c30810b3c4",
            "5b90f2fee73d4ddbb48a2c2e0ccc8fc7",
            "25ab03b26f514486b1f0534be4c6f7bf",
            "a89a029867d74b3ea7f983901567d44a",
            "1a002b2820664d6585c8af395913d866",
            "694c383bfda84f65ac1566748282aa5a",
            "d1f9f11025fe4f04bba8f1b0bd94e0b5",
            "d1105c0f6b344976983cbe2a7d3b28f5"
          ]
        },
        "id": "XJdry7YXhPxe",
        "outputId": "01e0ed96-8016-4b33-d032-a929acabde7e"
      },
      "execution_count": 52,
      "outputs": [
        {
          "output_type": "stream",
          "name": "stderr",
          "text": [
            "/usr/local/lib/python3.8/dist-packages/torchvision/models/_utils.py:208: UserWarning: The parameter 'pretrained' is deprecated since 0.13 and may be removed in the future, please use 'weights' instead.\n",
            "  warnings.warn(\n",
            "/usr/local/lib/python3.8/dist-packages/torchvision/models/_utils.py:223: UserWarning: Arguments other than a weight enum or `None` for 'weights' are deprecated since 0.13 and may be removed in the future. The current behavior is equivalent to passing `weights=ResNet18_Weights.IMAGENET1K_V1`. You can also use `weights=ResNet18_Weights.DEFAULT` to get the most up-to-date weights.\n",
            "  warnings.warn(msg)\n",
            "Downloading: \"https://download.pytorch.org/models/resnet18-f37072fd.pth\" to /root/.cache/torch/hub/checkpoints/resnet18-f37072fd.pth\n"
          ]
        },
        {
          "output_type": "display_data",
          "data": {
            "text/plain": [
              "  0%|          | 0.00/44.7M [00:00<?, ?B/s]"
            ],
            "application/vnd.jupyter.widget-view+json": {
              "version_major": 2,
              "version_minor": 0,
              "model_id": "33f259e4a0bd449a9daa9fe7d5d2be6c"
            }
          },
          "metadata": {}
        },
        {
          "output_type": "stream",
          "name": "stdout",
          "text": [
            "Epoch: 1/60, Train Loss: 1.4315435077516976, Train Accuracy: 52.63157894736842, Val Loss: 1.414178898904176, Val Accuracy: 48.529411764705884\n",
            "Epoch: 2/60, Train Loss: 1.235494465809765, Train Accuracy: 48.275862068965516, Val Loss: 1.1474741032693239, Val Accuracy: 54.411764705882355\n",
            "Epoch: 3/60, Train Loss: 0.9796999067333177, Train Accuracy: 57.41935483870968, Val Loss: 0.9215080801364595, Val Accuracy: 64.70588235294117\n",
            "Epoch: 4/60, Train Loss: 0.7995043782448678, Train Accuracy: 66.3677130044843, Val Loss: 0.7742387214593128, Val Accuracy: 69.8529411764706\n",
            "Epoch: 5/60, Train Loss: 0.6778809524400413, Train Accuracy: 70.79037800687286, Val Loss: 0.6700843540968093, Val Accuracy: 72.3529411764706\n",
            "Epoch: 6/60, Train Loss: 0.584346158077332, Train Accuracy: 73.53760445682451, Val Loss: 0.5996534296896605, Val Accuracy: 75.0\n",
            "Epoch: 7/60, Train Loss: 0.5310336358968306, Train Accuracy: 75.17564402810305, Val Loss: 0.5416985570856955, Val Accuracy: 75.63025210084034\n",
            "Epoch: 8/60, Train Loss: 0.47492712183253133, Train Accuracy: 76.56565656565657, Val Loss: 0.49627447550275683, Val Accuracy: 77.94117647058823\n",
            "Epoch: 9/60, Train Loss: 0.43602721179152687, Train Accuracy: 78.50799289520427, Val Loss: 0.46209487239871405, Val Accuracy: 79.73856209150327\n",
            "Epoch: 10/60, Train Loss: 0.4090153283357923, Train Accuracy: 80.03169572107765, Val Loss: 0.436283432276903, Val Accuracy: 80.58823529411765\n",
            "Epoch: 11/60, Train Loss: 0.3837779407428514, Train Accuracy: 80.82975679542203, Val Loss: 0.41031535325852114, Val Accuracy: 81.41711229946524\n",
            "Epoch: 12/60, Train Loss: 0.3606353745224212, Train Accuracy: 81.877444589309, Val Loss: 0.3967725196770862, Val Accuracy: 81.98529411764706\n",
            "Epoch: 13/60, Train Loss: 0.33803810400762885, Train Accuracy: 82.39520958083833, Val Loss: 0.38305041220335834, Val Accuracy: 82.8054298642534\n",
            "Epoch: 14/60, Train Loss: 0.32525595503810706, Train Accuracy: 83.05647840531562, Val Loss: 0.36809220778203644, Val Accuracy: 83.40336134453781\n",
            "Epoch: 15/60, Train Loss: 0.3039416818485478, Train Accuracy: 83.72811534500515, Val Loss: 0.352712175487417, Val Accuracy: 83.82352941176471\n",
            "Epoch: 16/60, Train Loss: 0.2986480926164678, Train Accuracy: 84.11934552454282, Val Loss: 0.3391271945649544, Val Accuracy: 84.375\n",
            "Epoch: 17/60, Train Loss: 0.28942252720174827, Train Accuracy: 84.55284552845528, Val Loss: 0.32215756441639587, Val Accuracy: 84.86159169550173\n",
            "Epoch: 18/60, Train Loss: 0.279983744687925, Train Accuracy: 84.93617021276596, Val Loss: 0.3167320690323821, Val Accuracy: 85.2124183006536\n",
            "Epoch: 19/60, Train Loss: 0.270667057934074, Train Accuracy: 85.27755430410298, Val Loss: 0.31219909465418455, Val Accuracy: 85.52631578947368\n",
            "Epoch: 20/60, Train Loss: 0.26147710080370967, Train Accuracy: 85.58352402745996, Val Loss: 0.29792373792260096, Val Accuracy: 85.95588235294117\n",
            "Epoch: 21/60, Train Loss: 0.25050019551414093, Train Accuracy: 86.07686729514141, Val Loss: 0.29198877790332894, Val Accuracy: 86.34453781512605\n",
            "Epoch: 22/60, Train Loss: 0.24412855199210373, Train Accuracy: 86.38562543192813, Val Loss: 0.27998274406500623, Val Accuracy: 86.76470588235294\n",
            "Epoch: 23/60, Train Loss: 0.23380497783384602, Train Accuracy: 86.93069306930693, Val Loss: 0.2856756564790169, Val Accuracy: 87.0843989769821\n",
            "Epoch: 24/60, Train Loss: 0.23291301121402727, Train Accuracy: 87.17624763108023, Val Loss: 0.2751406104163786, Val Accuracy: 87.31617647058823\n",
            "Epoch: 25/60, Train Loss: 0.22555359497458083, Train Accuracy: 87.4015748031496, Val Loss: 0.26683960129729417, Val Accuracy: 87.6470588235294\n",
            "Epoch: 26/60, Train Loss: 0.21445227214614498, Train Accuracy: 87.78359511343804, Val Loss: 0.2694810006470807, Val Accuracy: 87.89592760180996\n",
            "Epoch: 27/60, Train Loss: 0.21370360024244994, Train Accuracy: 87.96866256295468, Val Loss: 0.26129385011386025, Val Accuracy: 88.12636165577342\n",
            "Epoch: 28/60, Train Loss: 0.2059278560866243, Train Accuracy: 88.19407008086253, Val Loss: 0.25617954794284514, Val Accuracy: 88.23529411764706\n",
            "Epoch: 29/60, Train Loss: 0.2045042414828813, Train Accuracy: 88.24752990119605, Val Loss: 0.24924544106542537, Val Accuracy: 88.38742393509128\n",
            "Epoch: 30/60, Train Loss: 0.19453204238581384, Train Accuracy: 88.49824208940231, Val Loss: 0.243965579345163, Val Accuracy: 88.72549019607843\n",
            "Epoch: 31/60, Train Loss: 0.19320339532486214, Train Accuracy: 88.82952889752308, Val Loss: 0.2486631342795043, Val Accuracy: 88.94686907020873\n",
            "Epoch: 32/60, Train Loss: 0.19237781994830547, Train Accuracy: 89.04560413728255, Val Loss: 0.23638265322794957, Val Accuracy: 89.24632352941177\n",
            "Epoch: 33/60, Train Loss: 0.18449821072279118, Train Accuracy: 89.33940774487472, Val Loss: 0.2388854406576241, Val Accuracy: 89.48306595365419\n",
            "Epoch: 34/60, Train Loss: 0.18477920352882474, Train Accuracy: 89.57136544410075, Val Loss: 0.2303611957921391, Val Accuracy: 89.70588235294117\n",
            "Epoch: 35/60, Train Loss: 0.17746817808139126, Train Accuracy: 89.7897897897898, Val Loss: 0.22696978644987123, Val Accuracy: 89.87394957983193\n",
            "Epoch: 36/60, Train Loss: 0.17513402202077863, Train Accuracy: 89.95414756148395, Val Loss: 0.22865061633354794, Val Accuracy: 89.99183006535948\n",
            "Epoch: 37/60, Train Loss: 0.17301294794531002, Train Accuracy: 90.0689096068099, Val Loss: 0.2218652404515089, Val Accuracy: 90.18282988871225\n",
            "Epoch: 38/60, Train Loss: 0.1719581435565876, Train Accuracy: 90.25641025641026, Val Loss: 0.2257441967989491, Val Accuracy: 90.24767801857585\n",
            "Epoch: 39/60, Train Loss: 0.16873946547356766, Train Accuracy: 90.28044563964656, Val Loss: 0.21604802123213238, Val Accuracy: 90.34690799396682\n",
            "Epoch: 40/60, Train Loss: 0.16277608847224273, Train Accuracy: 90.41557469112692, Val Loss: 0.21461442930508504, Val Accuracy: 90.51470588235294\n",
            "Epoch: 41/60, Train Loss: 0.16909711333666247, Train Accuracy: 90.5074844833881, Val Loss: 0.21606744074188503, Val Accuracy: 90.56671449067431\n",
            "Epoch: 42/60, Train Loss: 0.1572111110372192, Train Accuracy: 90.63056644104026, Val Loss: 0.21843255304657253, Val Accuracy: 90.61624649859944\n",
            "Epoch: 43/60, Train Loss: 0.15759858152009026, Train Accuracy: 90.67826086956522, Val Loss: 0.1995615494989716, Val Accuracy: 90.8344733242134\n",
            "Epoch: 44/60, Train Loss: 0.1547718950875075, Train Accuracy: 90.8936459395175, Val Loss: 0.20149614958636528, Val Accuracy: 91.00935828877006\n",
            "Epoch: 45/60, Train Loss: 0.15355320110102924, Train Accuracy: 91.06609099966788, Val Loss: 0.20423684077980245, Val Accuracy: 91.14379084967321\n",
            "Epoch: 46/60, Train Loss: 0.15171850257786287, Train Accuracy: 91.19844105228971, Val Loss: 0.19799934657274093, Val Accuracy: 91.30434782608695\n",
            "Epoch: 47/60, Train Loss: 0.15311224124331638, Train Accuracy: 91.32507149666348, Val Loss: 0.2120809555053711, Val Accuracy: 91.30162703379224\n",
            "Epoch: 48/60, Train Loss: 0.1451838752669028, Train Accuracy: 91.35303265940902, Val Loss: 0.20339011302036522, Val Accuracy: 91.42156862745098\n",
            "Epoch: 49/60, Train Loss: 0.15147979983532142, Train Accuracy: 91.44075540664026, Val Loss: 0.1916716499666197, Val Accuracy: 91.53661464585835\n",
            "Epoch: 50/60, Train Loss: 0.14563812536993354, Train Accuracy: 91.58460161145926, Val Loss: 0.19752835805437205, Val Accuracy: 91.61764705882354\n",
            "Epoch: 51/60, Train Loss: 0.14076432127510274, Train Accuracy: 91.66422930681486, Val Loss: 0.20488643646240234, Val Accuracy: 91.66666666666667\n",
            "Epoch: 52/60, Train Loss: 0.1412729671677004, Train Accuracy: 91.71207341554344, Val Loss: 0.20070006784084624, Val Accuracy: 91.68552036199095\n",
            "Epoch: 53/60, Train Loss: 0.14032405516395424, Train Accuracy: 91.72995780590718, Val Loss: 0.20080038509537687, Val Accuracy: 91.73140954495005\n",
            "Epoch: 54/60, Train Loss: 0.1356567021700751, Train Accuracy: 91.77477228815899, Val Loss: 0.19296885802682523, Val Accuracy: 91.7755991285403\n",
            "Epoch: 55/60, Train Loss: 0.13973591439757294, Train Accuracy: 91.79084259008398, Val Loss: 0.18902675662420493, Val Accuracy: 91.76470588235294\n",
            "Epoch: 56/60, Train Loss: 0.13621113412413544, Train Accuracy: 91.80633147113593, Val Loss: 0.19514124372364144, Val Accuracy: 91.78046218487395\n",
            "Epoch: 57/60, Train Loss: 0.1376062796712679, Train Accuracy: 91.795139796185, Val Loss: 0.19209444839342504, Val Accuracy: 91.76986584107327\n",
            "Epoch: 58/60, Train Loss: 0.12897381000930805, Train Accuracy: 91.81001283697047, Val Loss: 0.1794030096678607, Val Accuracy: 91.88640973630832\n",
            "Epoch: 59/60, Train Loss: 0.12945275809592183, Train Accuracy: 91.92530910926067, Val Loss: 0.18821668202898142, Val Accuracy: 91.92422731804587\n",
            "Epoch: 60/60, Train Loss: 0.12953727096887221, Train Accuracy: 91.96229223517737, Val Loss: 0.186673459753526, Val Accuracy: 91.96078431372548\n"
          ]
        },
        {
          "output_type": "execute_result",
          "data": {
            "text/plain": [
              "<All keys matched successfully>"
            ]
          },
          "metadata": {},
          "execution_count": 52
        }
      ]
    },
    {
      "cell_type": "markdown",
      "metadata": {
        "id": "LW2aqaDEXFds"
      },
      "source": [
        "###Learning Process Analysis [3 points]\n",
        "After training your model, provide two plots summarizing the learning procedure. Like previous parts, you will provide plots for loss value and accuracy progression over epochs. Remember that for each plot, you need to include two curves (one for the training set and one for the validation set)."
      ]
    },
    {
      "cell_type": "code",
      "execution_count": 53,
      "metadata": {
        "id": "esWBPBmdlqlA",
        "colab": {
          "base_uri": "https://localhost:8080/",
          "height": 265
        },
        "outputId": "f7774971-7679-4920-cf53-118ea783eb73"
      },
      "outputs": [
        {
          "output_type": "display_data",
          "data": {
            "text/plain": [
              "<Figure size 432x288 with 1 Axes>"
            ],
            "image/png": "[encoded data removed]"
          },
          "metadata": {
            "needs_background": "light"
          }
        }
      ],
      "source": [
        "# TODO: Implement your plots here, you can use matplotlib library to do so.\n",
        "plt.plot(loss_v, label='Training loss')\n",
        "plt.plot(loss_t, label='Validation loss')\n",
        "plt.legend(frameon=False)\n",
        "plt.show()\n"
      ]
    },
    {
      "cell_type": "code",
      "source": [
        "plt.figure(figsize=(10,6))\n",
        "plt.plot(val_acc, label = \"Validation Accuracy at each epoch\")\n",
        "plt.plot(train_acc, label = \"Training Accuracy at each epoch\")\n",
        "plt.legend(frameon=False)\n",
        "plt.show()"
      ],
      "metadata": {
        "colab": {
          "base_uri": "https://localhost:8080/",
          "height": 374
        },
        "id": "rjR0VeVFepdR",
        "outputId": "22f0f8c1-417e-49d4-f7b6-2a26d90f7921"
      },
      "execution_count": 54,
      "outputs": [
        {
          "output_type": "display_data",
          "data": {
            "text/plain": [
              "<Figure size 720x432 with 1 Axes>"
            ],
            "image/png": "[encoded data removed]"
          },
          "metadata": {
            "needs_background": "light"
          }
        }
      ]
    },
    {
      "cell_type": "markdown",
      "metadata": {
        "id": "o4Y-Qs33XH_G"
      },
      "source": [
        "### Test [4 points]\n",
        "Following your analysis, report the confusion matrix for the best model you obtained (with the criteria you defined). Then, report the accuracy, precision, recall and $F_1$ score for the best model. In all of the metrics, use macro averaging."
      ]
    },
    {
      "cell_type": "code",
      "execution_count": 55,
      "metadata": {
        "id": "bsZbLlOD5SvJ"
      },
      "outputs": [],
      "source": [
        "# TODO: Implement your evaluation script here, provide the confusion matrix and the requested metrics\n",
        "def test_resnet(model, test_dataset, test_batch):\n",
        "    #model2 = models.resnet18(pretrained=True)\n",
        "    #model2.fc = nn.Linear(512, 4)\n",
        "    model.load_state_dict(torch.load('model2.pth'))\n",
        "    model.to(\"cuda:0\")\n",
        "    model.eval()\n",
        "    test_loader = DataLoader(test_dataset, batch_size=test_batch, shuffle=True)\n",
        "    y_true = np.array([])\n",
        "    y_pred = np.array([])\n",
        "    with torch.no_grad():\n",
        "        for images, labels in test_loader:\n",
        "            outputs = model(images)\n",
        "            predicted = outputs.argmax(dim = 1, keepdim = True).squeeze()\n",
        "            y_true = np.append(y_true,labels.cpu())\n",
        "            y_pred = np.append(y_pred,predicted.cpu())  \n",
        "\n",
        "    \n",
        "    print('Test Accuracy: {}%'.format(100*accuracy_score(y_true,y_pred)))\n",
        "    print('Precision: {}'.format(100*precision_score(y_true, y_pred, average='macro')))\n",
        "    print('Recall: {}'.format(100*recall_score(y_true, y_pred, average='macro')))\n",
        "    print('F1 Score: {}'.format(100*f1_score(y_true, y_pred, average='macro')))\n",
        "    print('Confusion Matrix: {}'.format(confusion_matrix(y_true, y_pred)))\n",
        "\n"
      ]
    },
    {
      "cell_type": "code",
      "source": [
        "test_resnet(model2, test_dataset, test_batch)"
      ],
      "metadata": {
        "colab": {
          "base_uri": "https://localhost:8080/"
        },
        "id": "dOOh5QcAireH",
        "outputId": "e2571376-2366-4bb7-8da9-6aadb95182d7"
      },
      "execution_count": 56,
      "outputs": [
        {
          "output_type": "stream",
          "name": "stdout",
          "text": [
            "Test Accuracy: 90.22222222222223%\n",
            "Precision: 90.85754985754986\n",
            "Recall: 90.37235983102919\n",
            "F1 Score: 90.59005124359454\n",
            "Confusion Matrix: [[55  0  7  0]\n",
            " [ 0 31  1  0]\n",
            " [10  0 44  2]\n",
            " [ 0  0  2 73]]\n"
          ]
        }
      ]
    },
    {
      "cell_type": "markdown",
      "metadata": {
        "id": "47uwNm3NmJDB"
      },
      "source": [
        "### Discussion [3 points]\n",
        "Now discuss the effectiveness of Transfer Learning. How does it improve performance?  \n",
        "\n",
        "Transfer learning has significantly improved the performance in various ways. Looking at the training/validation loss curves, it can be seen that they are smoother and closer to each other. The model neither overfits nor underfits. Also, the performance metrics indicate that this model has the highest accuracy, precision, recall and F1 score for all the datasets (training, validation and test) among the three models trained in this homework. These improvements are due to the fact that resnet-18 is a pre-trained model with already optimized weights and biases and also allows more complex datasets to be examined due to its more layered structure (compared to the other two models I trained)."
      ]
    },
    {
      "cell_type": "markdown",
      "metadata": {
        "id": "23y1QPvOVDIF"
      },
      "source": [
        "# References\n",
        "[1] Ajayi, Gbeminiyi (2018), “Multi-class Weather Dataset for Image Classification”, Mendeley Data, V1, doi: 10.17632/4drtyfjtfy.1"
      ]
    }
  ],
  "metadata": {
    "accelerator": "GPU",
    "colab": {
      "provenance": []
    },
    "kernelspec": {
      "display_name": "base",
      "language": "python",
      "name": "python3"
    },
    "language_info": {
      "codemirror_mode": {
        "name": "ipython",
        "version": 3
      },
      "file_extension": ".py",
      "mimetype": "text/x-python",
      "name": "python",
      "nbconvert_exporter": "python",
      "pygments_lexer": "ipython3",
      "version": "3.9.12"
    },
    "vscode": {
      "interpreter": {
        "hash": "688342f9a2e1954665dcdc55ae78d10ef3827c1a3666b5a7cdeefe570eb3c6d6"
      }
    },
    "widgets": {
      "application/vnd.jupyter.widget-state+json": {
        "33f259e4a0bd449a9daa9fe7d5d2be6c": {
          "model_module": "@jupyter-widgets/controls",
          "model_name": "HBoxModel",
          "model_module_version": "1.5.0",
          "state": {
            "_dom_classes": [],
            "_model_module": "@jupyter-widgets/controls",
            "_model_module_version": "1.5.0",
            "_model_name": "HBoxModel",
            "_view_count": null,
            "_view_module": "@jupyter-widgets/controls",
            "_view_module_version": "1.5.0",
            "_view_name": "HBoxView",
            "box_style": "",
            "children": [
              "IPY_MODEL_654e9d0e67a142dd88b5bc549a57ca4b",
              "IPY_MODEL_70b0c8b4298a42f8979147deb7a55005",
              "IPY_MODEL_3b08e31f13d04e67844884c30810b3c4"
            ],
            "layout": "IPY_MODEL_5b90f2fee73d4ddbb48a2c2e0ccc8fc7"
          }
        },
        "654e9d0e67a142dd88b5bc549a57ca4b": {
          "model_module": "@jupyter-widgets/controls",
          "model_name": "HTMLModel",
          "model_module_version": "1.5.0",
          "state": {
            "_dom_classes": [],
            "_model_module": "@jupyter-widgets/controls",
            "_model_module_version": "1.5.0",
            "_model_name": "HTMLModel",
            "_view_count": null,
            "_view_module": "@jupyter-widgets/controls",
            "_view_module_version": "1.5.0",
            "_view_name": "HTMLView",
            "description": "",
            "description_tooltip": null,
            "layout": "IPY_MODEL_25ab03b26f514486b1f0534be4c6f7bf",
            "placeholder": "​",
            "style": "IPY_MODEL_a89a029867d74b3ea7f983901567d44a",
            "value": "100%"
          }
        },
        "70b0c8b4298a42f8979147deb7a55005": {
          "model_module": "@jupyter-widgets/controls",
          "model_name": "FloatProgressModel",
          "model_module_version": "1.5.0",
          "state": {
            "_dom_classes": [],
            "_model_module": "@jupyter-widgets/controls",
            "_model_module_version": "1.5.0",
            "_model_name": "FloatProgressModel",
            "_view_count": null,
            "_view_module": "@jupyter-widgets/controls",
            "_view_module_version": "1.5.0",
            "_view_name": "ProgressView",
            "bar_style": "success",
            "description": "",
            "description_tooltip": null,
            "layout": "IPY_MODEL_1a002b2820664d6585c8af395913d866",
            "max": 46830571,
            "min": 0,
            "orientation": "horizontal",
            "style": "IPY_MODEL_694c383bfda84f65ac1566748282aa5a",
            "value": 46830571
          }
        },
        "3b08e31f13d04e67844884c30810b3c4": {
          "model_module": "@jupyter-widgets/controls",
          "model_name": "HTMLModel",
          "model_module_version": "1.5.0",
          "state": {
            "_dom_classes": [],
            "_model_module": "@jupyter-widgets/controls",
            "_model_module_version": "1.5.0",
            "_model_name": "HTMLModel",
            "_view_count": null,
            "_view_module": "@jupyter-widgets/controls",
            "_view_module_version": "1.5.0",
            "_view_name": "HTMLView",
            "description": "",
            "description_tooltip": null,
            "layout": "IPY_MODEL_d1f9f11025fe4f04bba8f1b0bd94e0b5",
            "placeholder": "​",
            "style": "IPY_MODEL_d1105c0f6b344976983cbe2a7d3b28f5",
            "value": " 44.7M/44.7M [00:00&lt;00:00, 227MB/s]"
          }
        },
        "5b90f2fee73d4ddbb48a2c2e0ccc8fc7": {
          "model_module": "@jupyter-widgets/base",
          "model_name": "LayoutModel",
          "model_module_version": "1.2.0",
          "state": {
            "_model_module": "@jupyter-widgets/base",
            "_model_module_version": "1.2.0",
            "_model_name": "LayoutModel",
            "_view_count": null,
            "_view_module": "@jupyter-widgets/base",
            "_view_module_version": "1.2.0",
            "_view_name": "LayoutView",
            "align_content": null,
            "align_items": null,
            "align_self": null,
            "border": null,
            "bottom": null,
            "display": null,
            "flex": null,
            "flex_flow": null,
            "grid_area": null,
            "grid_auto_columns": null,
            "grid_auto_flow": null,
            "grid_auto_rows": null,
            "grid_column": null,
            "grid_gap": null,
            "grid_row": null,
            "grid_template_areas": null,
            "grid_template_columns": null,
            "grid_template_rows": null,
            "height": null,
            "justify_content": null,
            "justify_items": null,
            "left": null,
            "margin": null,
            "max_height": null,
            "max_width": null,
            "min_height": null,
            "min_width": null,
            "object_fit": null,
            "object_position": null,
            "order": null,
            "overflow": null,
            "overflow_x": null,
            "overflow_y": null,
            "padding": null,
            "right": null,
            "top": null,
            "visibility": null,
            "width": null
          }
        },
        "25ab03b26f514486b1f0534be4c6f7bf": {
          "model_module": "@jupyter-widgets/base",
          "model_name": "LayoutModel",
          "model_module_version": "1.2.0",
          "state": {
            "_model_module": "@jupyter-widgets/base",
            "_model_module_version": "1.2.0",
            "_model_name": "LayoutModel",
            "_view_count": null,
            "_view_module": "@jupyter-widgets/base",
            "_view_module_version": "1.2.0",
            "_view_name": "LayoutView",
            "align_content": null,
            "align_items": null,
            "align_self": null,
            "border": null,
            "bottom": null,
            "display": null,
            "flex": null,
            "flex_flow": null,
            "grid_area": null,
            "grid_auto_columns": null,
            "grid_auto_flow": null,
            "grid_auto_rows": null,
            "grid_column": null,
            "grid_gap": null,
            "grid_row": null,
            "grid_template_areas": null,
            "grid_template_columns": null,
            "grid_template_rows": null,
            "height": null,
            "justify_content": null,
            "justify_items": null,
            "left": null,
            "margin": null,
            "max_height": null,
            "max_width": null,
            "min_height": null,
            "min_width": null,
            "object_fit": null,
            "object_position": null,
            "order": null,
            "overflow": null,
            "overflow_x": null,
            "overflow_y": null,
            "padding": null,
            "right": null,
            "top": null,
            "visibility": null,
            "width": null
          }
        },
        "a89a029867d74b3ea7f983901567d44a": {
          "model_module": "@jupyter-widgets/controls",
          "model_name": "DescriptionStyleModel",
          "model_module_version": "1.5.0",
          "state": {
            "_model_module": "@jupyter-widgets/controls",
            "_model_module_version": "1.5.0",
            "_model_name": "DescriptionStyleModel",
            "_view_count": null,
            "_view_module": "@jupyter-widgets/base",
            "_view_module_version": "1.2.0",
            "_view_name": "StyleView",
            "description_width": ""
          }
        },
        "1a002b2820664d6585c8af395913d866": {
          "model_module": "@jupyter-widgets/base",
          "model_name": "LayoutModel",
          "model_module_version": "1.2.0",
          "state": {
            "_model_module": "@jupyter-widgets/base",
            "_model_module_version": "1.2.0",
            "_model_name": "LayoutModel",
            "_view_count": null,
            "_view_module": "@jupyter-widgets/base",
            "_view_module_version": "1.2.0",
            "_view_name": "LayoutView",
            "align_content": null,
            "align_items": null,
            "align_self": null,
            "border": null,
            "bottom": null,
            "display": null,
            "flex": null,
            "flex_flow": null,
            "grid_area": null,
            "grid_auto_columns": null,
            "grid_auto_flow": null,
            "grid_auto_rows": null,
            "grid_column": null,
            "grid_gap": null,
            "grid_row": null,
            "grid_template_areas": null,
            "grid_template_columns": null,
            "grid_template_rows": null,
            "height": null,
            "justify_content": null,
            "justify_items": null,
            "left": null,
            "margin": null,
            "max_height": null,
            "max_width": null,
            "min_height": null,
            "min_width": null,
            "object_fit": null,
            "object_position": null,
            "order": null,
            "overflow": null,
            "overflow_x": null,
            "overflow_y": null,
            "padding": null,
            "right": null,
            "top": null,
            "visibility": null,
            "width": null
          }
        },
        "694c383bfda84f65ac1566748282aa5a": {
          "model_module": "@jupyter-widgets/controls",
          "model_name": "ProgressStyleModel",
          "model_module_version": "1.5.0",
          "state": {
            "_model_module": "@jupyter-widgets/controls",
            "_model_module_version": "1.5.0",
            "_model_name": "ProgressStyleModel",
            "_view_count": null,
            "_view_module": "@jupyter-widgets/base",
            "_view_module_version": "1.2.0",
            "_view_name": "StyleView",
            "bar_color": null,
            "description_width": ""
          }
        },
        "d1f9f11025fe4f04bba8f1b0bd94e0b5": {
          "model_module": "@jupyter-widgets/base",
          "model_name": "LayoutModel",
          "model_module_version": "1.2.0",
          "state": {
            "_model_module": "@jupyter-widgets/base",
            "_model_module_version": "1.2.0",
            "_model_name": "LayoutModel",
            "_view_count": null,
            "_view_module": "@jupyter-widgets/base",
            "_view_module_version": "1.2.0",
            "_view_name": "LayoutView",
            "align_content": null,
            "align_items": null,
            "align_self": null,
            "border": null,
            "bottom": null,
            "display": null,
            "flex": null,
            "flex_flow": null,
            "grid_area": null,
            "grid_auto_columns": null,
            "grid_auto_flow": null,
            "grid_auto_rows": null,
            "grid_column": null,
            "grid_gap": null,
            "grid_row": null,
            "grid_template_areas": null,
            "grid_template_columns": null,
            "grid_template_rows": null,
            "height": null,
            "justify_content": null,
            "justify_items": null,
            "left": null,
            "margin": null,
            "max_height": null,
            "max_width": null,
            "min_height": null,
            "min_width": null,
            "object_fit": null,
            "object_position": null,
            "order": null,
            "overflow": null,
            "overflow_x": null,
            "overflow_y": null,
            "padding": null,
            "right": null,
            "top": null,
            "visibility": null,
            "width": null
          }
        },
        "d1105c0f6b344976983cbe2a7d3b28f5": {
          "model_module": "@jupyter-widgets/controls",
          "model_name": "DescriptionStyleModel",
          "model_module_version": "1.5.0",
          "state": {
            "_model_module": "@jupyter-widgets/controls",
            "_model_module_version": "1.5.0",
            "_model_name": "DescriptionStyleModel",
            "_view_count": null,
            "_view_module": "@jupyter-widgets/base",
            "_view_module_version": "1.2.0",
            "_view_name": "StyleView",
            "description_width": ""
          }
        }
      }
    }
  },
  "nbformat": 4,
  "nbformat_minor": 0
}